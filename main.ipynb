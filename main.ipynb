{
 "cells": [
  {
   "cell_type": "markdown",
   "id": "527e37a1-f5f4-4678-8927-357b7ed53e49",
   "metadata": {},
   "source": [
    "<center><img src=\"./images/Header.png\" \r\n",
    "    Width=2000\">|"
   ]
  },
  {
   "cell_type": "markdown",
   "id": "115aa479-89ce-4106-854b-c1cc379e8cf5",
   "metadata": {},
   "source": [
    "## 1. Business Understanding"
   ]
  },
  {
   "cell_type": "markdown",
   "id": "80e1fb1a-6dfc-4289-a559-e082e6040e28",
   "metadata": {},
   "source": [
    "### 1.1. Business Objective \n",
    "This project aims to determine which movies are currently doing the best at the box office. Several sources of data are used (see [here](https://github.com/setare92-ha/project_eda_movie_profit_analysis/tree/main/zippedData)). These sources include data from [Box Office Mojo](https://www.boxofficemojo.com/), [IMDB](https://www.imdb.com/?ref_=nv_home), [Rotton Tomatoes](https://www.rottentomatoes.com/), [The Movie DataBase](https://www.themoviedb.org/?language=en-US)(TMDB) and [TheNumbers](https://www.the-numbers.com/). The study and its findings will serve stakeholders trying to start a new venture in the movie industry, such as creating a movie studio, or streaming platforms trying to determine movies that would be profitable additions to their collection. "
   ]
  },
  {
   "cell_type": "markdown",
   "id": "270e2f47-a422-4b86-b44e-a9569a5c3961",
   "metadata": {},
   "source": [
    "### 1.2. Background Information\n",
    "Different metrics may be used to determine the success or profitability of a movie. We may come to different conclusions based on the choice of metric (see [this article](https://www.hollywoodreporter.com/movies/movie-news/what-is-profitable-movie-ever-1269879/) for reference). Here, we choose Return On Investment (ROI) as an appropriate metric to use. ROI may be defined as $$ROI=\\frac{Revenue-Expense}{Expense}\\times 100$$. We focus on this fiscal metric to determine the most profitable movies. Later, we will focus on the different aspects of a movie (genre, movie ratings, director, etc.) that may correlate to the movie's success in general.  "
   ]
  },
  {
   "cell_type": "markdown",
   "id": "a348aa55-d89d-4841-895c-9f7651e38c0a",
   "metadata": {},
   "source": [
    "### 1.3. Data Mining Goals\n",
    "We would aim for cleaning the data and retaining as much relevant information as possible. Since we're taking data from various sources, we may need to unify them for a more comprehensive analysis. Each source of data may use different jargon/metrics. It's essential to understand what these metrics represent before we attempt to unify data across sources. "
   ]
  },
  {
   "cell_type": "markdown",
   "id": "40d86bfe-7199-4dbf-9026-4dbd79c54adc",
   "metadata": {},
   "source": [
    "### 1.4. Project Plan\n",
    "We will first skim the data sources available and get an understanding of the attributes. Then we will clean the data and prepare it for analysis. The important attributes to keep for the different stages of analysis will be identified. Next, we will draw insights from the data to answer the business question. To make the findings more accessible to the stakeholders, we will summarize them as business recommendations at the end. As is known, any study is as good as its limitations. Therefore, at the very end, we will list the assumptions and limitations of the study and how we could potentially better the study in the future. "
   ]
  },
  {
   "cell_type": "markdown",
   "id": "52a08e79-f8eb-45c9-88fb-e66a9fdccd67",
   "metadata": {},
   "source": [
    "## 2. Data Understanding\n",
    "In what follows, we take a preliminary look at the data and understand what information we have available.  "
   ]
  },
  {
   "cell_type": "code",
   "execution_count": 243,
   "id": "05b961ca-b11a-4f02-8ac9-63f0bd341dc5",
   "metadata": {},
   "outputs": [
    {
     "name": "stdin",
     "output_type": "stream",
     "text": [
      "Once deleted, variables cannot be recovered. Proceed (y/[n])?  y\n"
     ]
    }
   ],
   "source": [
    "%reset\n",
    "import ast\n",
    "from bs4 import BeautifulSoup\n",
    "import imdb\n",
    "import numpy\n",
    "import pandas as pd\n",
    "import requests\n",
    "import sqlite3\n",
    "import matplotlib.pyplot as plt\n",
    "\n",
    "%matplotlib inline"
   ]
  },
  {
   "cell_type": "markdown",
   "id": "688b2abb-9ea2-4839-af52-12a5b88f6264",
   "metadata": {},
   "source": [
    "### 2.1. Data from the Box Office Mojo"
   ]
  },
  {
   "cell_type": "code",
   "execution_count": 244,
   "id": "d766a3f8-4914-4ca7-abf1-7d0905f569f6",
   "metadata": {},
   "outputs": [
    {
     "name": "stdout",
     "output_type": "stream",
     "text": [
      "summary of the data from Box Office Mojo:\n",
      "<class 'pandas.core.frame.DataFrame'>\n",
      "RangeIndex: 3387 entries, 0 to 3386\n",
      "Data columns (total 5 columns):\n",
      " #   Column          Non-Null Count  Dtype  \n",
      "---  ------          --------------  -----  \n",
      " 0   title           3387 non-null   object \n",
      " 1   studio          3382 non-null   object \n",
      " 2   domestic_gross  3359 non-null   float64\n",
      " 3   foreign_gross   2037 non-null   object \n",
      " 4   year            3387 non-null   int64  \n",
      "dtypes: float64(1), int64(1), object(3)\n",
      "memory usage: 132.4+ KB\n",
      "None\n"
     ]
    },
    {
     "data": {
      "text/html": [
       "<div>\n",
       "<style scoped>\n",
       "    .dataframe tbody tr th:only-of-type {\n",
       "        vertical-align: middle;\n",
       "    }\n",
       "\n",
       "    .dataframe tbody tr th {\n",
       "        vertical-align: top;\n",
       "    }\n",
       "\n",
       "    .dataframe thead th {\n",
       "        text-align: right;\n",
       "    }\n",
       "</style>\n",
       "<table border=\"1\" class=\"dataframe\">\n",
       "  <thead>\n",
       "    <tr style=\"text-align: right;\">\n",
       "      <th></th>\n",
       "      <th>title</th>\n",
       "      <th>studio</th>\n",
       "      <th>domestic_gross</th>\n",
       "      <th>foreign_gross</th>\n",
       "      <th>year</th>\n",
       "    </tr>\n",
       "  </thead>\n",
       "  <tbody>\n",
       "    <tr>\n",
       "      <th>0</th>\n",
       "      <td>Toy Story 3</td>\n",
       "      <td>BV</td>\n",
       "      <td>415000000.0</td>\n",
       "      <td>652000000</td>\n",
       "      <td>2010</td>\n",
       "    </tr>\n",
       "    <tr>\n",
       "      <th>1</th>\n",
       "      <td>Alice in Wonderland (2010)</td>\n",
       "      <td>BV</td>\n",
       "      <td>334200000.0</td>\n",
       "      <td>691300000</td>\n",
       "      <td>2010</td>\n",
       "    </tr>\n",
       "    <tr>\n",
       "      <th>2</th>\n",
       "      <td>Harry Potter and the Deathly Hallows Part 1</td>\n",
       "      <td>WB</td>\n",
       "      <td>296000000.0</td>\n",
       "      <td>664300000</td>\n",
       "      <td>2010</td>\n",
       "    </tr>\n",
       "    <tr>\n",
       "      <th>3</th>\n",
       "      <td>Inception</td>\n",
       "      <td>WB</td>\n",
       "      <td>292600000.0</td>\n",
       "      <td>535700000</td>\n",
       "      <td>2010</td>\n",
       "    </tr>\n",
       "    <tr>\n",
       "      <th>4</th>\n",
       "      <td>Shrek Forever After</td>\n",
       "      <td>P/DW</td>\n",
       "      <td>238700000.0</td>\n",
       "      <td>513900000</td>\n",
       "      <td>2010</td>\n",
       "    </tr>\n",
       "    <tr>\n",
       "      <th>5</th>\n",
       "      <td>The Twilight Saga: Eclipse</td>\n",
       "      <td>Sum.</td>\n",
       "      <td>300500000.0</td>\n",
       "      <td>398000000</td>\n",
       "      <td>2010</td>\n",
       "    </tr>\n",
       "    <tr>\n",
       "      <th>6</th>\n",
       "      <td>Iron Man 2</td>\n",
       "      <td>Par.</td>\n",
       "      <td>312400000.0</td>\n",
       "      <td>311500000</td>\n",
       "      <td>2010</td>\n",
       "    </tr>\n",
       "    <tr>\n",
       "      <th>7</th>\n",
       "      <td>Tangled</td>\n",
       "      <td>BV</td>\n",
       "      <td>200800000.0</td>\n",
       "      <td>391000000</td>\n",
       "      <td>2010</td>\n",
       "    </tr>\n",
       "    <tr>\n",
       "      <th>8</th>\n",
       "      <td>Despicable Me</td>\n",
       "      <td>Uni.</td>\n",
       "      <td>251500000.0</td>\n",
       "      <td>291600000</td>\n",
       "      <td>2010</td>\n",
       "    </tr>\n",
       "    <tr>\n",
       "      <th>9</th>\n",
       "      <td>How to Train Your Dragon</td>\n",
       "      <td>P/DW</td>\n",
       "      <td>217600000.0</td>\n",
       "      <td>277300000</td>\n",
       "      <td>2010</td>\n",
       "    </tr>\n",
       "  </tbody>\n",
       "</table>\n",
       "</div>"
      ],
      "text/plain": [
       "                                         title studio  domestic_gross  \\\n",
       "0                                  Toy Story 3     BV     415000000.0   \n",
       "1                   Alice in Wonderland (2010)     BV     334200000.0   \n",
       "2  Harry Potter and the Deathly Hallows Part 1     WB     296000000.0   \n",
       "3                                    Inception     WB     292600000.0   \n",
       "4                          Shrek Forever After   P/DW     238700000.0   \n",
       "5                   The Twilight Saga: Eclipse   Sum.     300500000.0   \n",
       "6                                   Iron Man 2   Par.     312400000.0   \n",
       "7                                      Tangled     BV     200800000.0   \n",
       "8                                Despicable Me   Uni.     251500000.0   \n",
       "9                     How to Train Your Dragon   P/DW     217600000.0   \n",
       "\n",
       "  foreign_gross  year  \n",
       "0     652000000  2010  \n",
       "1     691300000  2010  \n",
       "2     664300000  2010  \n",
       "3     535700000  2010  \n",
       "4     513900000  2010  \n",
       "5     398000000  2010  \n",
       "6     311500000  2010  \n",
       "7     391000000  2010  \n",
       "8     291600000  2010  \n",
       "9     277300000  2010  "
      ]
     },
     "execution_count": 244,
     "metadata": {},
     "output_type": "execute_result"
    }
   ],
   "source": [
    "# import data from Box Office Mojo\n",
    "df_bom = pd.read_csv(\"./unzipped_data/bom.movie_gross.csv\")\n",
    "print(\"summary of the data from Box Office Mojo:\")\n",
    "print(df_bom.info())\n",
    "df_bom.head(10)"
   ]
  },
  {
   "cell_type": "code",
   "execution_count": 245,
   "id": "c432eb68-ef0d-4217-8b77-0eb15dca9fb6",
   "metadata": {},
   "outputs": [
    {
     "name": "stdout",
     "output_type": "stream",
     "text": [
      "% missing data from the domestic gross column: 0.8266902863891312\n",
      "% missing data from the foreign gross column: 39.85828166519043\n",
      "% missing data from the foreign & domestic gross columns combined: 40.68497195157958\n"
     ]
    }
   ],
   "source": [
    "# what percentage of data is missing from the domestic gross & foreign gross columns?\n",
    "print(\n",
    "    \"% missing data from the domestic gross column:\",\n",
    "    (1 - len(df_bom.dropna(subset=[\"domestic_gross\"])) / len(df_bom)) * 100,\n",
    ")\n",
    "print(\n",
    "    \"% missing data from the foreign gross column:\",\n",
    "    (1 - len(df_bom.dropna(subset=[\"foreign_gross\"])) / len(df_bom)) * 100,\n",
    ")\n",
    "print(\n",
    "    \"% missing data from the foreign & domestic gross columns combined:\",\n",
    "    (1 - len(df_bom.dropna(subset=[\"domestic_gross\", \"foreign_gross\"])) / len(df_bom))\n",
    "    * 100,\n",
    ")"
   ]
  },
  {
   "cell_type": "code",
   "execution_count": 246,
   "id": "7655d35f-e2d2-4a4d-9890-0dea1036aae3",
   "metadata": {},
   "outputs": [
    {
     "data": {
      "text/html": [
       "<div>\n",
       "<style scoped>\n",
       "    .dataframe tbody tr th:only-of-type {\n",
       "        vertical-align: middle;\n",
       "    }\n",
       "\n",
       "    .dataframe tbody tr th {\n",
       "        vertical-align: top;\n",
       "    }\n",
       "\n",
       "    .dataframe thead th {\n",
       "        text-align: right;\n",
       "    }\n",
       "</style>\n",
       "<table border=\"1\" class=\"dataframe\">\n",
       "  <thead>\n",
       "    <tr style=\"text-align: right;\">\n",
       "      <th></th>\n",
       "      <th>domestic_gross</th>\n",
       "      <th>foreign_gross</th>\n",
       "    </tr>\n",
       "  </thead>\n",
       "  <tbody>\n",
       "    <tr>\n",
       "      <th>count</th>\n",
       "      <td>2.009000e+03</td>\n",
       "      <td>2.009000e+03</td>\n",
       "    </tr>\n",
       "    <tr>\n",
       "      <th>mean</th>\n",
       "      <td>4.697311e+07</td>\n",
       "      <td>7.571822e+07</td>\n",
       "    </tr>\n",
       "    <tr>\n",
       "      <th>std</th>\n",
       "      <td>8.159966e+07</td>\n",
       "      <td>1.381296e+08</td>\n",
       "    </tr>\n",
       "    <tr>\n",
       "      <th>min</th>\n",
       "      <td>4.000000e+02</td>\n",
       "      <td>6.000000e+02</td>\n",
       "    </tr>\n",
       "    <tr>\n",
       "      <th>25%</th>\n",
       "      <td>6.650000e+05</td>\n",
       "      <td>3.900000e+06</td>\n",
       "    </tr>\n",
       "    <tr>\n",
       "      <th>50%</th>\n",
       "      <td>1.650000e+07</td>\n",
       "      <td>1.930000e+07</td>\n",
       "    </tr>\n",
       "    <tr>\n",
       "      <th>75%</th>\n",
       "      <td>5.600000e+07</td>\n",
       "      <td>7.590000e+07</td>\n",
       "    </tr>\n",
       "    <tr>\n",
       "      <th>max</th>\n",
       "      <td>9.367000e+08</td>\n",
       "      <td>9.605000e+08</td>\n",
       "    </tr>\n",
       "  </tbody>\n",
       "</table>\n",
       "</div>"
      ],
      "text/plain": [
       "       domestic_gross  foreign_gross\n",
       "count    2.009000e+03   2.009000e+03\n",
       "mean     4.697311e+07   7.571822e+07\n",
       "std      8.159966e+07   1.381296e+08\n",
       "min      4.000000e+02   6.000000e+02\n",
       "25%      6.650000e+05   3.900000e+06\n",
       "50%      1.650000e+07   1.930000e+07\n",
       "75%      5.600000e+07   7.590000e+07\n",
       "max      9.367000e+08   9.605000e+08"
      ]
     },
     "execution_count": 246,
     "metadata": {},
     "output_type": "execute_result"
    }
   ],
   "source": [
    "df_bom[\"foreign_gross\"] = (\n",
    "    df_bom[\"foreign_gross\"].str.replace(\",\", \"\", regex=False).astype(float)\n",
    ")  # convert the foreign gross data type to float\n",
    "df_bom.dropna(subset=[\"domestic_gross\", \"foreign_gross\"])[\n",
    "    [\"domestic_gross\", \"foreign_gross\"]\n",
    "].describe()"
   ]
  },
  {
   "cell_type": "markdown",
   "id": "6871225d-e083-4560-8b6c-532d08667c5e",
   "metadata": {},
   "source": [
    "**Observations:**\n",
    "1. The data from Box Office Mojo has 3387 entries and it contains information on the movie name, studio, and the year it was produced. There's also information on the **domestic gross** and **foregin gross** revenue of the movies. The former is the total revenue a movie earns in its home country (in this case, United States and Canada) while the latter refers to the total revenue a movie earns outside of its home country. This information combined with data on the cost/budget for each movie (missing from the current table) will come in handy for determining the **Return on Investment** metric. One possibility is to use the movie name to read movie_id from the movie_basics table in the IMDB database (loaded in the next section), then scrape the IMDB website to find the budget and add it to this table. We will attempt to do this in the Data Preparation section. \n",
    "2. The data type for foreign gross is object (text). We need to change it to float. \n",
    "3. We also notice that several entries are missing from the domestic gross (less than 1%) and foreign gross (~40%) columns. This data will need cleaning (including the removal of NaNs) before it can be used in our analysis. "
   ]
  },
  {
   "cell_type": "markdown",
   "id": "f8c1aab8-ef03-48f0-a8f9-92809707a2f9",
   "metadata": {},
   "source": [
    "### 2.2. Data from IMDB"
   ]
  },
  {
   "cell_type": "code",
   "execution_count": 247,
   "id": "40d66c51-94b3-42a8-bfca-3c2e1f5db234",
   "metadata": {},
   "outputs": [
    {
     "data": {
      "text/html": [
       "<div>\n",
       "<style scoped>\n",
       "    .dataframe tbody tr th:only-of-type {\n",
       "        vertical-align: middle;\n",
       "    }\n",
       "\n",
       "    .dataframe tbody tr th {\n",
       "        vertical-align: top;\n",
       "    }\n",
       "\n",
       "    .dataframe thead th {\n",
       "        text-align: right;\n",
       "    }\n",
       "</style>\n",
       "<table border=\"1\" class=\"dataframe\">\n",
       "  <thead>\n",
       "    <tr style=\"text-align: right;\">\n",
       "      <th></th>\n",
       "      <th>table_name</th>\n",
       "    </tr>\n",
       "  </thead>\n",
       "  <tbody>\n",
       "    <tr>\n",
       "      <th>0</th>\n",
       "      <td>movie_basics</td>\n",
       "    </tr>\n",
       "    <tr>\n",
       "      <th>1</th>\n",
       "      <td>directors</td>\n",
       "    </tr>\n",
       "    <tr>\n",
       "      <th>2</th>\n",
       "      <td>known_for</td>\n",
       "    </tr>\n",
       "    <tr>\n",
       "      <th>3</th>\n",
       "      <td>movie_akas</td>\n",
       "    </tr>\n",
       "    <tr>\n",
       "      <th>4</th>\n",
       "      <td>movie_ratings</td>\n",
       "    </tr>\n",
       "    <tr>\n",
       "      <th>5</th>\n",
       "      <td>persons</td>\n",
       "    </tr>\n",
       "    <tr>\n",
       "      <th>6</th>\n",
       "      <td>principals</td>\n",
       "    </tr>\n",
       "    <tr>\n",
       "      <th>7</th>\n",
       "      <td>writers</td>\n",
       "    </tr>\n",
       "  </tbody>\n",
       "</table>\n",
       "</div>"
      ],
      "text/plain": [
       "      table_name\n",
       "0   movie_basics\n",
       "1      directors\n",
       "2      known_for\n",
       "3     movie_akas\n",
       "4  movie_ratings\n",
       "5        persons\n",
       "6     principals\n",
       "7        writers"
      ]
     },
     "execution_count": 247,
     "metadata": {},
     "output_type": "execute_result"
    }
   ],
   "source": [
    "# import data from IMDB\n",
    "conn = sqlite3.connect(\"./unzipped_data/im.db\")  # open up a connection\n",
    "cursor = conn.cursor()\n",
    "# table name query\n",
    "table_name_query = (\n",
    "    \"\"\"SELECT name AS table_name FROM sqlite_master WHERE type='table';\"\"\"\n",
    ")\n",
    "imdb_sql_table_names = pd.read_sql(table_name_query, conn)\n",
    "imdb_sql_table_names.head(10)"
   ]
  },
  {
   "cell_type": "markdown",
   "id": "cdf428c2-ff08-482f-9e11-15e2c5bf88f7",
   "metadata": {},
   "source": [
    "Let's explore each table and understand what useful information they might contain. Below we define a function that queries each table to show all its columns. We will reuse this function to take a peek at the data in all tables."
   ]
  },
  {
   "cell_type": "code",
   "execution_count": 248,
   "id": "fb94eb51-822d-4ff1-b3a8-0b0a6b35dcce",
   "metadata": {},
   "outputs": [],
   "source": [
    "def show_table_contents(table_name):\n",
    "    read_table_query = f\"\"\"SELECT *\n",
    "                        FROM {table_name}\"\"\"\n",
    "    print(f\"This is the content of {table_name}\")\n",
    "    print(pd.read_sql(read_table_query, conn).head());"
   ]
  },
  {
   "cell_type": "markdown",
   "id": "a5ed27eb-f80f-4646-9b83-1bf2c982b3fc",
   "metadata": {},
   "source": [
    "#### 1.2.1. IMDB Data: Table Contents"
   ]
  },
  {
   "cell_type": "code",
   "execution_count": 249,
   "id": "cdd18959-d1f6-46dd-a124-f7bc67ff2252",
   "metadata": {},
   "outputs": [
    {
     "name": "stdout",
     "output_type": "stream",
     "text": [
      "This is the content of movie_basics\n",
      "    movie_id                    primary_title              original_title  \\\n",
      "0  tt0063540                        Sunghursh                   Sunghursh   \n",
      "1  tt0066787  One Day Before the Rainy Season             Ashad Ka Ek Din   \n",
      "2  tt0069049       The Other Side of the Wind  The Other Side of the Wind   \n",
      "3  tt0069204                  Sabse Bada Sukh             Sabse Bada Sukh   \n",
      "4  tt0100275         The Wandering Soap Opera       La Telenovela Errante   \n",
      "\n",
      "   start_year  runtime_minutes                genres  \n",
      "0        2013            175.0    Action,Crime,Drama  \n",
      "1        2019            114.0       Biography,Drama  \n",
      "2        2018            122.0                 Drama  \n",
      "3        2018              NaN          Comedy,Drama  \n",
      "4        2017             80.0  Comedy,Drama,Fantasy  \n",
      "This is the content of directors\n",
      "    movie_id  person_id\n",
      "0  tt0285252  nm0899854\n",
      "1  tt0462036  nm1940585\n",
      "2  tt0835418  nm0151540\n",
      "3  tt0835418  nm0151540\n",
      "4  tt0878654  nm0089502\n",
      "This is the content of known_for\n",
      "   person_id   movie_id\n",
      "0  nm0061671  tt0837562\n",
      "1  nm0061671  tt2398241\n",
      "2  nm0061671  tt0844471\n",
      "3  nm0061671  tt0118553\n",
      "4  nm0061865  tt0896534\n",
      "This is the content of movie_akas\n",
      "    movie_id  ordering                                    title region  \\\n",
      "0  tt0369610        10                            Джурасик свят     BG   \n",
      "1  tt0369610        11                        Jurashikku warudo     JP   \n",
      "2  tt0369610        12  Jurassic World: O Mundo dos Dinossauros     BR   \n",
      "3  tt0369610        13                  O Mundo dos Dinossauros     BR   \n",
      "4  tt0369610        14                           Jurassic World     FR   \n",
      "\n",
      "  language        types   attributes  is_original_title  \n",
      "0       bg         None         None                0.0  \n",
      "1     None  imdbDisplay         None                0.0  \n",
      "2     None  imdbDisplay         None                0.0  \n",
      "3     None         None  short title                0.0  \n",
      "4     None  imdbDisplay         None                0.0  \n",
      "This is the content of movie_ratings\n",
      "     movie_id  averagerating  numvotes\n",
      "0  tt10356526            8.3        31\n",
      "1  tt10384606            8.9       559\n",
      "2   tt1042974            6.4        20\n",
      "3   tt1043726            4.2     50352\n",
      "4   tt1060240            6.5        21\n",
      "This is the content of persons\n",
      "   person_id       primary_name  birth_year  death_year  \\\n",
      "0  nm0061671  Mary Ellen Bauder         NaN         NaN   \n",
      "1  nm0061865       Joseph Bauer         NaN         NaN   \n",
      "2  nm0062070         Bruce Baum         NaN         NaN   \n",
      "3  nm0062195       Axel Baumann         NaN         NaN   \n",
      "4  nm0062798        Pete Baxter         NaN         NaN   \n",
      "\n",
      "                                 primary_profession  \n",
      "0         miscellaneous,production_manager,producer  \n",
      "1        composer,music_department,sound_department  \n",
      "2                        miscellaneous,actor,writer  \n",
      "3  camera_department,cinematographer,art_department  \n",
      "4  production_designer,art_department,set_decorator  \n",
      "This is the content of principals\n",
      "    movie_id  ordering  person_id  category       job        characters\n",
      "0  tt0111414         1  nm0246005     actor      None       [\"The Man\"]\n",
      "1  tt0111414         2  nm0398271  director      None              None\n",
      "2  tt0111414         3  nm3739909  producer  producer              None\n",
      "3  tt0323808        10  nm0059247    editor      None              None\n",
      "4  tt0323808         1  nm3579312   actress      None  [\"Beth Boothby\"]\n",
      "This is the content of writers\n",
      "    movie_id  person_id\n",
      "0  tt0285252  nm0899854\n",
      "1  tt0438973  nm0175726\n",
      "2  tt0438973  nm1802864\n",
      "3  tt0462036  nm1940585\n",
      "4  tt0835418  nm0310087\n"
     ]
    }
   ],
   "source": [
    "[\n",
    "    show_table_contents(table_name)\n",
    "    for table_name in list(imdb_sql_table_names[\"table_name\"])\n",
    "];"
   ]
  },
  {
   "cell_type": "markdown",
   "id": "7990c50d-2735-4d59-aae7-278a1d360c2f",
   "metadata": {},
   "source": [
    "**Observations:** }This database has some useful information about **movie ratings** and **number of votes** as well as **directors** and **actors**. Since we would like to focus on a fiscal measure such as ROI, this data does not seem particularly necessary to include in our analysis. However, we may use this data at the end to study correlations between high ratings and other factors mentioned above. "
   ]
  },
  {
   "cell_type": "markdown",
   "id": "b4d86ce5-89a4-4f3d-a60d-c754a3cb907b",
   "metadata": {},
   "source": [
    "### 2.3. Data from Rotten Tomatoes"
   ]
  },
  {
   "cell_type": "code",
   "execution_count": 250,
   "id": "906f59b4-cd10-4b12-909f-28dc2c2832e7",
   "metadata": {},
   "outputs": [
    {
     "name": "stdout",
     "output_type": "stream",
     "text": [
      "Summary of the data on movie info from Rotton Tomatoes:\n",
      "<class 'pandas.core.frame.DataFrame'>\n",
      "RangeIndex: 1560 entries, 0 to 1559\n",
      "Data columns (total 12 columns):\n",
      " #   Column        Non-Null Count  Dtype \n",
      "---  ------        --------------  ----- \n",
      " 0   id            1560 non-null   int64 \n",
      " 1   synopsis      1498 non-null   object\n",
      " 2   rating        1557 non-null   object\n",
      " 3   genre         1552 non-null   object\n",
      " 4   director      1361 non-null   object\n",
      " 5   writer        1111 non-null   object\n",
      " 6   theater_date  1201 non-null   object\n",
      " 7   dvd_date      1201 non-null   object\n",
      " 8   currency      340 non-null    object\n",
      " 9   box_office    340 non-null    object\n",
      " 10  runtime       1530 non-null   object\n",
      " 11  studio        494 non-null    object\n",
      "dtypes: int64(1), object(11)\n",
      "memory usage: 146.4+ KB\n",
      "None\n"
     ]
    },
    {
     "data": {
      "text/html": [
       "<div>\n",
       "<style scoped>\n",
       "    .dataframe tbody tr th:only-of-type {\n",
       "        vertical-align: middle;\n",
       "    }\n",
       "\n",
       "    .dataframe tbody tr th {\n",
       "        vertical-align: top;\n",
       "    }\n",
       "\n",
       "    .dataframe thead th {\n",
       "        text-align: right;\n",
       "    }\n",
       "</style>\n",
       "<table border=\"1\" class=\"dataframe\">\n",
       "  <thead>\n",
       "    <tr style=\"text-align: right;\">\n",
       "      <th></th>\n",
       "      <th>id</th>\n",
       "      <th>synopsis</th>\n",
       "      <th>rating</th>\n",
       "      <th>genre</th>\n",
       "      <th>director</th>\n",
       "      <th>writer</th>\n",
       "      <th>theater_date</th>\n",
       "      <th>dvd_date</th>\n",
       "      <th>currency</th>\n",
       "      <th>box_office</th>\n",
       "      <th>runtime</th>\n",
       "      <th>studio</th>\n",
       "    </tr>\n",
       "  </thead>\n",
       "  <tbody>\n",
       "    <tr>\n",
       "      <th>0</th>\n",
       "      <td>1</td>\n",
       "      <td>This gritty, fast-paced, and innovative police...</td>\n",
       "      <td>R</td>\n",
       "      <td>Action and Adventure|Classics|Drama</td>\n",
       "      <td>William Friedkin</td>\n",
       "      <td>Ernest Tidyman</td>\n",
       "      <td>Oct 9, 1971</td>\n",
       "      <td>Sep 25, 2001</td>\n",
       "      <td>NaN</td>\n",
       "      <td>NaN</td>\n",
       "      <td>104 minutes</td>\n",
       "      <td>NaN</td>\n",
       "    </tr>\n",
       "    <tr>\n",
       "      <th>1</th>\n",
       "      <td>3</td>\n",
       "      <td>New York City, not-too-distant-future: Eric Pa...</td>\n",
       "      <td>R</td>\n",
       "      <td>Drama|Science Fiction and Fantasy</td>\n",
       "      <td>David Cronenberg</td>\n",
       "      <td>David Cronenberg|Don DeLillo</td>\n",
       "      <td>Aug 17, 2012</td>\n",
       "      <td>Jan 1, 2013</td>\n",
       "      <td>$</td>\n",
       "      <td>600,000</td>\n",
       "      <td>108 minutes</td>\n",
       "      <td>Entertainment One</td>\n",
       "    </tr>\n",
       "    <tr>\n",
       "      <th>2</th>\n",
       "      <td>5</td>\n",
       "      <td>Illeana Douglas delivers a superb performance ...</td>\n",
       "      <td>R</td>\n",
       "      <td>Drama|Musical and Performing Arts</td>\n",
       "      <td>Allison Anders</td>\n",
       "      <td>Allison Anders</td>\n",
       "      <td>Sep 13, 1996</td>\n",
       "      <td>Apr 18, 2000</td>\n",
       "      <td>NaN</td>\n",
       "      <td>NaN</td>\n",
       "      <td>116 minutes</td>\n",
       "      <td>NaN</td>\n",
       "    </tr>\n",
       "    <tr>\n",
       "      <th>3</th>\n",
       "      <td>6</td>\n",
       "      <td>Michael Douglas runs afoul of a treacherous su...</td>\n",
       "      <td>R</td>\n",
       "      <td>Drama|Mystery and Suspense</td>\n",
       "      <td>Barry Levinson</td>\n",
       "      <td>Paul Attanasio|Michael Crichton</td>\n",
       "      <td>Dec 9, 1994</td>\n",
       "      <td>Aug 27, 1997</td>\n",
       "      <td>NaN</td>\n",
       "      <td>NaN</td>\n",
       "      <td>128 minutes</td>\n",
       "      <td>NaN</td>\n",
       "    </tr>\n",
       "    <tr>\n",
       "      <th>4</th>\n",
       "      <td>7</td>\n",
       "      <td>NaN</td>\n",
       "      <td>NR</td>\n",
       "      <td>Drama|Romance</td>\n",
       "      <td>Rodney Bennett</td>\n",
       "      <td>Giles Cooper</td>\n",
       "      <td>NaN</td>\n",
       "      <td>NaN</td>\n",
       "      <td>NaN</td>\n",
       "      <td>NaN</td>\n",
       "      <td>200 minutes</td>\n",
       "      <td>NaN</td>\n",
       "    </tr>\n",
       "  </tbody>\n",
       "</table>\n",
       "</div>"
      ],
      "text/plain": [
       "   id                                           synopsis rating  \\\n",
       "0   1  This gritty, fast-paced, and innovative police...      R   \n",
       "1   3  New York City, not-too-distant-future: Eric Pa...      R   \n",
       "2   5  Illeana Douglas delivers a superb performance ...      R   \n",
       "3   6  Michael Douglas runs afoul of a treacherous su...      R   \n",
       "4   7                                                NaN     NR   \n",
       "\n",
       "                                 genre          director  \\\n",
       "0  Action and Adventure|Classics|Drama  William Friedkin   \n",
       "1    Drama|Science Fiction and Fantasy  David Cronenberg   \n",
       "2    Drama|Musical and Performing Arts    Allison Anders   \n",
       "3           Drama|Mystery and Suspense    Barry Levinson   \n",
       "4                        Drama|Romance    Rodney Bennett   \n",
       "\n",
       "                            writer  theater_date      dvd_date currency  \\\n",
       "0                   Ernest Tidyman   Oct 9, 1971  Sep 25, 2001      NaN   \n",
       "1     David Cronenberg|Don DeLillo  Aug 17, 2012   Jan 1, 2013        $   \n",
       "2                   Allison Anders  Sep 13, 1996  Apr 18, 2000      NaN   \n",
       "3  Paul Attanasio|Michael Crichton   Dec 9, 1994  Aug 27, 1997      NaN   \n",
       "4                     Giles Cooper           NaN           NaN      NaN   \n",
       "\n",
       "  box_office      runtime             studio  \n",
       "0        NaN  104 minutes                NaN  \n",
       "1    600,000  108 minutes  Entertainment One  \n",
       "2        NaN  116 minutes                NaN  \n",
       "3        NaN  128 minutes                NaN  \n",
       "4        NaN  200 minutes                NaN  "
      ]
     },
     "execution_count": 250,
     "metadata": {},
     "output_type": "execute_result"
    }
   ],
   "source": [
    "# import data on movie reviews from rotton tomatoes\n",
    "df_rt_movie_info = pd.read_csv(\"./unzipped_data/rt.movie_info.tsv\", delimiter=\"\\t\")\n",
    "print(\"Summary of the data on movie info from Rotton Tomatoes:\")\n",
    "print(df_rt_movie_info.info())\n",
    "df_rt_movie_info.head()"
   ]
  },
  {
   "cell_type": "markdown",
   "id": "e1f45d08-95bf-43fa-a299-fded2de70f22",
   "metadata": {},
   "source": [
    "The data from Rotten Tomatoes contains information on the **total revenue generated by a movie** (box_office). It also contains other interesting information such as **genre** and **rating**. What is striking though is that the box_office field has a high percentage of missing data (roughly 78%). It's not clear how useful this data will be in terms of considering the revenue. The other problem is that the name of the movies is not listed so there is no way to cross-reference this table with other tables. "
   ]
  },
  {
   "cell_type": "code",
   "execution_count": 251,
   "id": "65dfcfd0-7b75-4f6d-9a7a-8bca83627d75",
   "metadata": {},
   "outputs": [
    {
     "name": "stdout",
     "output_type": "stream",
     "text": [
      "<class 'pandas.core.frame.DataFrame'>\n",
      "RangeIndex: 54432 entries, 0 to 54431\n",
      "Data columns (total 8 columns):\n",
      " #   Column      Non-Null Count  Dtype \n",
      "---  ------      --------------  ----- \n",
      " 0   id          54432 non-null  int64 \n",
      " 1   review      48869 non-null  object\n",
      " 2   rating      40915 non-null  object\n",
      " 3   fresh       54432 non-null  object\n",
      " 4   critic      51710 non-null  object\n",
      " 5   top_critic  54432 non-null  int64 \n",
      " 6   publisher   54123 non-null  object\n",
      " 7   date        54432 non-null  object\n",
      "dtypes: int64(2), object(6)\n",
      "memory usage: 3.3+ MB\n",
      "None\n"
     ]
    },
    {
     "data": {
      "text/html": [
       "<div>\n",
       "<style scoped>\n",
       "    .dataframe tbody tr th:only-of-type {\n",
       "        vertical-align: middle;\n",
       "    }\n",
       "\n",
       "    .dataframe tbody tr th {\n",
       "        vertical-align: top;\n",
       "    }\n",
       "\n",
       "    .dataframe thead th {\n",
       "        text-align: right;\n",
       "    }\n",
       "</style>\n",
       "<table border=\"1\" class=\"dataframe\">\n",
       "  <thead>\n",
       "    <tr style=\"text-align: right;\">\n",
       "      <th></th>\n",
       "      <th>id</th>\n",
       "      <th>review</th>\n",
       "      <th>rating</th>\n",
       "      <th>fresh</th>\n",
       "      <th>critic</th>\n",
       "      <th>top_critic</th>\n",
       "      <th>publisher</th>\n",
       "      <th>date</th>\n",
       "    </tr>\n",
       "  </thead>\n",
       "  <tbody>\n",
       "    <tr>\n",
       "      <th>0</th>\n",
       "      <td>3</td>\n",
       "      <td>A distinctly gallows take on contemporary fina...</td>\n",
       "      <td>3/5</td>\n",
       "      <td>fresh</td>\n",
       "      <td>PJ Nabarro</td>\n",
       "      <td>0</td>\n",
       "      <td>Patrick Nabarro</td>\n",
       "      <td>November 10, 2018</td>\n",
       "    </tr>\n",
       "    <tr>\n",
       "      <th>1</th>\n",
       "      <td>3</td>\n",
       "      <td>It's an allegory in search of a meaning that n...</td>\n",
       "      <td>NaN</td>\n",
       "      <td>rotten</td>\n",
       "      <td>Annalee Newitz</td>\n",
       "      <td>0</td>\n",
       "      <td>io9.com</td>\n",
       "      <td>May 23, 2018</td>\n",
       "    </tr>\n",
       "    <tr>\n",
       "      <th>2</th>\n",
       "      <td>3</td>\n",
       "      <td>... life lived in a bubble in financial dealin...</td>\n",
       "      <td>NaN</td>\n",
       "      <td>fresh</td>\n",
       "      <td>Sean Axmaker</td>\n",
       "      <td>0</td>\n",
       "      <td>Stream on Demand</td>\n",
       "      <td>January 4, 2018</td>\n",
       "    </tr>\n",
       "    <tr>\n",
       "      <th>3</th>\n",
       "      <td>3</td>\n",
       "      <td>Continuing along a line introduced in last yea...</td>\n",
       "      <td>NaN</td>\n",
       "      <td>fresh</td>\n",
       "      <td>Daniel Kasman</td>\n",
       "      <td>0</td>\n",
       "      <td>MUBI</td>\n",
       "      <td>November 16, 2017</td>\n",
       "    </tr>\n",
       "    <tr>\n",
       "      <th>4</th>\n",
       "      <td>3</td>\n",
       "      <td>... a perverse twist on neorealism...</td>\n",
       "      <td>NaN</td>\n",
       "      <td>fresh</td>\n",
       "      <td>NaN</td>\n",
       "      <td>0</td>\n",
       "      <td>Cinema Scope</td>\n",
       "      <td>October 12, 2017</td>\n",
       "    </tr>\n",
       "  </tbody>\n",
       "</table>\n",
       "</div>"
      ],
      "text/plain": [
       "   id                                             review rating   fresh  \\\n",
       "0   3  A distinctly gallows take on contemporary fina...    3/5   fresh   \n",
       "1   3  It's an allegory in search of a meaning that n...    NaN  rotten   \n",
       "2   3  ... life lived in a bubble in financial dealin...    NaN   fresh   \n",
       "3   3  Continuing along a line introduced in last yea...    NaN   fresh   \n",
       "4   3             ... a perverse twist on neorealism...     NaN   fresh   \n",
       "\n",
       "           critic  top_critic         publisher               date  \n",
       "0      PJ Nabarro           0   Patrick Nabarro  November 10, 2018  \n",
       "1  Annalee Newitz           0           io9.com       May 23, 2018  \n",
       "2    Sean Axmaker           0  Stream on Demand    January 4, 2018  \n",
       "3   Daniel Kasman           0              MUBI  November 16, 2017  \n",
       "4             NaN           0      Cinema Scope   October 12, 2017  "
      ]
     },
     "execution_count": 251,
     "metadata": {},
     "output_type": "execute_result"
    }
   ],
   "source": [
    "df_rt_reviews = pd.read_csv(\"./unzipped_data/rt.reviews.tsv\", sep=\"\\t\", encoding=\"mbcs\")\n",
    "print(df_rt_reviews.info())\n",
    "df_rt_reviews.head()"
   ]
  },
  {
   "cell_type": "markdown",
   "id": "723bae51-e0a0-4091-be64-852a452d6108",
   "metadata": {},
   "source": [
    "This table lists the full reviews people left for movies. The data regarding movie ratings can be combined with that from IMDB if we do an analysis that looks at whether higher ratings correlate with better fiscal outcomes. Further down the line, it may also be possible to train a model that can classify the reviews as positive or negative. Then use that to do further studies on how different movies were generally received. We abandon this idea for now. "
   ]
  },
  {
   "cell_type": "markdown",
   "id": "ec799126-ba2a-4bfc-821c-8db7ea7516ac",
   "metadata": {},
   "source": [
    "### 2.4. Data from TheMovieDB"
   ]
  },
  {
   "cell_type": "code",
   "execution_count": 252,
   "id": "6b655935-1b90-4e90-95b0-68c87d568ea0",
   "metadata": {},
   "outputs": [
    {
     "name": "stdout",
     "output_type": "stream",
     "text": [
      "<class 'pandas.core.frame.DataFrame'>\n",
      "Index: 26517 entries, 0 to 26516\n",
      "Data columns (total 9 columns):\n",
      " #   Column             Non-Null Count  Dtype  \n",
      "---  ------             --------------  -----  \n",
      " 0   genre_ids          26517 non-null  object \n",
      " 1   id                 26517 non-null  int64  \n",
      " 2   original_language  26517 non-null  object \n",
      " 3   original_title     26517 non-null  object \n",
      " 4   popularity         26517 non-null  float64\n",
      " 5   release_date       26517 non-null  object \n",
      " 6   title              26517 non-null  object \n",
      " 7   vote_average       26517 non-null  float64\n",
      " 8   vote_count         26517 non-null  int64  \n",
      "dtypes: float64(2), int64(2), object(5)\n",
      "memory usage: 2.0+ MB\n",
      "None\n"
     ]
    },
    {
     "data": {
      "text/html": [
       "<div>\n",
       "<style scoped>\n",
       "    .dataframe tbody tr th:only-of-type {\n",
       "        vertical-align: middle;\n",
       "    }\n",
       "\n",
       "    .dataframe tbody tr th {\n",
       "        vertical-align: top;\n",
       "    }\n",
       "\n",
       "    .dataframe thead th {\n",
       "        text-align: right;\n",
       "    }\n",
       "</style>\n",
       "<table border=\"1\" class=\"dataframe\">\n",
       "  <thead>\n",
       "    <tr style=\"text-align: right;\">\n",
       "      <th></th>\n",
       "      <th>genre_ids</th>\n",
       "      <th>id</th>\n",
       "      <th>original_language</th>\n",
       "      <th>original_title</th>\n",
       "      <th>popularity</th>\n",
       "      <th>release_date</th>\n",
       "      <th>title</th>\n",
       "      <th>vote_average</th>\n",
       "      <th>vote_count</th>\n",
       "    </tr>\n",
       "  </thead>\n",
       "  <tbody>\n",
       "    <tr>\n",
       "      <th>0</th>\n",
       "      <td>[12, 14, 10751]</td>\n",
       "      <td>12444</td>\n",
       "      <td>en</td>\n",
       "      <td>Harry Potter and the Deathly Hallows: Part 1</td>\n",
       "      <td>33.533</td>\n",
       "      <td>2010-11-19</td>\n",
       "      <td>Harry Potter and the Deathly Hallows: Part 1</td>\n",
       "      <td>7.7</td>\n",
       "      <td>10788</td>\n",
       "    </tr>\n",
       "    <tr>\n",
       "      <th>1</th>\n",
       "      <td>[14, 12, 16, 10751]</td>\n",
       "      <td>10191</td>\n",
       "      <td>en</td>\n",
       "      <td>How to Train Your Dragon</td>\n",
       "      <td>28.734</td>\n",
       "      <td>2010-03-26</td>\n",
       "      <td>How to Train Your Dragon</td>\n",
       "      <td>7.7</td>\n",
       "      <td>7610</td>\n",
       "    </tr>\n",
       "    <tr>\n",
       "      <th>2</th>\n",
       "      <td>[12, 28, 878]</td>\n",
       "      <td>10138</td>\n",
       "      <td>en</td>\n",
       "      <td>Iron Man 2</td>\n",
       "      <td>28.515</td>\n",
       "      <td>2010-05-07</td>\n",
       "      <td>Iron Man 2</td>\n",
       "      <td>6.8</td>\n",
       "      <td>12368</td>\n",
       "    </tr>\n",
       "    <tr>\n",
       "      <th>3</th>\n",
       "      <td>[16, 35, 10751]</td>\n",
       "      <td>862</td>\n",
       "      <td>en</td>\n",
       "      <td>Toy Story</td>\n",
       "      <td>28.005</td>\n",
       "      <td>1995-11-22</td>\n",
       "      <td>Toy Story</td>\n",
       "      <td>7.9</td>\n",
       "      <td>10174</td>\n",
       "    </tr>\n",
       "    <tr>\n",
       "      <th>4</th>\n",
       "      <td>[28, 878, 12]</td>\n",
       "      <td>27205</td>\n",
       "      <td>en</td>\n",
       "      <td>Inception</td>\n",
       "      <td>27.920</td>\n",
       "      <td>2010-07-16</td>\n",
       "      <td>Inception</td>\n",
       "      <td>8.3</td>\n",
       "      <td>22186</td>\n",
       "    </tr>\n",
       "  </tbody>\n",
       "</table>\n",
       "</div>"
      ],
      "text/plain": [
       "             genre_ids     id original_language  \\\n",
       "0      [12, 14, 10751]  12444                en   \n",
       "1  [14, 12, 16, 10751]  10191                en   \n",
       "2        [12, 28, 878]  10138                en   \n",
       "3      [16, 35, 10751]    862                en   \n",
       "4        [28, 878, 12]  27205                en   \n",
       "\n",
       "                                 original_title  popularity release_date  \\\n",
       "0  Harry Potter and the Deathly Hallows: Part 1      33.533   2010-11-19   \n",
       "1                      How to Train Your Dragon      28.734   2010-03-26   \n",
       "2                                    Iron Man 2      28.515   2010-05-07   \n",
       "3                                     Toy Story      28.005   1995-11-22   \n",
       "4                                     Inception      27.920   2010-07-16   \n",
       "\n",
       "                                          title  vote_average  vote_count  \n",
       "0  Harry Potter and the Deathly Hallows: Part 1           7.7       10788  \n",
       "1                      How to Train Your Dragon           7.7        7610  \n",
       "2                                    Iron Man 2           6.8       12368  \n",
       "3                                     Toy Story           7.9       10174  \n",
       "4                                     Inception           8.3       22186  "
      ]
     },
     "execution_count": 252,
     "metadata": {},
     "output_type": "execute_result"
    }
   ],
   "source": [
    "# import data from the movie db\n",
    "df_movie_tmdb = pd.read_csv(\"./unzipped_data/tmdb.movies.csv\", index_col=0)\n",
    "print(df_movie_tmdb.info())\n",
    "df_movie_tmdb.head()"
   ]
  },
  {
   "cell_type": "markdown",
   "id": "077ee904-7012-4442-9411-28007e77ed4f",
   "metadata": {},
   "source": [
    "This table has information on movie ratings (**vote_average**) and **popularity**. The popularity column does not have a specific range and is determined based on several factors including the recentness of the release and the number of votes. This table also includes information on the **genres**. However, they're listed as ids. If we intend to use this information, we will need to first map the ids to the actual genres using a mapping that TMDB provides itself. I created a separate table that does this using the information [here](https://www.themoviedb.org/talk/5daf6eb0ae36680011d7e6ee). "
   ]
  },
  {
   "cell_type": "code",
   "execution_count": 253,
   "id": "31ff28d2-2f6f-46ea-bc6a-028c295f4373",
   "metadata": {},
   "outputs": [
    {
     "data": {
      "text/html": [
       "<div>\n",
       "<style scoped>\n",
       "    .dataframe tbody tr th:only-of-type {\n",
       "        vertical-align: middle;\n",
       "    }\n",
       "\n",
       "    .dataframe tbody tr th {\n",
       "        vertical-align: top;\n",
       "    }\n",
       "\n",
       "    .dataframe thead th {\n",
       "        text-align: right;\n",
       "    }\n",
       "</style>\n",
       "<table border=\"1\" class=\"dataframe\">\n",
       "  <thead>\n",
       "    <tr style=\"text-align: right;\">\n",
       "      <th></th>\n",
       "      <th>genre</th>\n",
       "      <th>id</th>\n",
       "    </tr>\n",
       "  </thead>\n",
       "  <tbody>\n",
       "    <tr>\n",
       "      <th>0</th>\n",
       "      <td>Action</td>\n",
       "      <td>28</td>\n",
       "    </tr>\n",
       "    <tr>\n",
       "      <th>1</th>\n",
       "      <td>Adventure</td>\n",
       "      <td>12</td>\n",
       "    </tr>\n",
       "    <tr>\n",
       "      <th>2</th>\n",
       "      <td>Animation</td>\n",
       "      <td>16</td>\n",
       "    </tr>\n",
       "    <tr>\n",
       "      <th>3</th>\n",
       "      <td>Comedy</td>\n",
       "      <td>35</td>\n",
       "    </tr>\n",
       "    <tr>\n",
       "      <th>4</th>\n",
       "      <td>Crime</td>\n",
       "      <td>80</td>\n",
       "    </tr>\n",
       "  </tbody>\n",
       "</table>\n",
       "</div>"
      ],
      "text/plain": [
       "              genre  id\n",
       "0            Action  28\n",
       "1  Adventure         12\n",
       "2  Animation         16\n",
       "3     Comedy         35\n",
       "4  Crime             80"
      ]
     },
     "execution_count": 253,
     "metadata": {},
     "output_type": "execute_result"
    }
   ],
   "source": [
    "df_genre_tmdb = pd.read_csv(\"./unzipped_data/tmdb.genres.csv\")\n",
    "df_genre_tmdb.head()"
   ]
  },
  {
   "cell_type": "markdown",
   "id": "158d97d9-0842-4468-8714-5591a349a263",
   "metadata": {},
   "source": [
    "Once we integrate the genres with this table, we can join this table with the tables from IMDB and Rotton Tomatoes containing similar information. We shelf these ideas for the last stage of the analysis."
   ]
  },
  {
   "cell_type": "markdown",
   "id": "b055dffb-ac2f-4dc3-a110-1cd3e613006c",
   "metadata": {},
   "source": [
    "### 2.5. Data from TheNumbers"
   ]
  },
  {
   "cell_type": "code",
   "execution_count": 254,
   "id": "a2a8029b-8c07-4033-b9fa-b59534c45643",
   "metadata": {
    "scrolled": true
   },
   "outputs": [
    {
     "name": "stdout",
     "output_type": "stream",
     "text": [
      "Summary of the data on movie info from The Numbers:\n",
      "<class 'pandas.core.frame.DataFrame'>\n",
      "Index: 5782 entries, 1 to 82\n",
      "Data columns (total 5 columns):\n",
      " #   Column             Non-Null Count  Dtype \n",
      "---  ------             --------------  ----- \n",
      " 0   release_date       5782 non-null   object\n",
      " 1   movie              5782 non-null   object\n",
      " 2   production_budget  5782 non-null   object\n",
      " 3   domestic_gross     5782 non-null   object\n",
      " 4   worldwide_gross    5782 non-null   object\n",
      "dtypes: object(5)\n",
      "memory usage: 271.0+ KB\n",
      "None\n"
     ]
    },
    {
     "data": {
      "text/html": [
       "<div>\n",
       "<style scoped>\n",
       "    .dataframe tbody tr th:only-of-type {\n",
       "        vertical-align: middle;\n",
       "    }\n",
       "\n",
       "    .dataframe tbody tr th {\n",
       "        vertical-align: top;\n",
       "    }\n",
       "\n",
       "    .dataframe thead th {\n",
       "        text-align: right;\n",
       "    }\n",
       "</style>\n",
       "<table border=\"1\" class=\"dataframe\">\n",
       "  <thead>\n",
       "    <tr style=\"text-align: right;\">\n",
       "      <th></th>\n",
       "      <th>release_date</th>\n",
       "      <th>movie</th>\n",
       "      <th>production_budget</th>\n",
       "      <th>domestic_gross</th>\n",
       "      <th>worldwide_gross</th>\n",
       "    </tr>\n",
       "    <tr>\n",
       "      <th>id</th>\n",
       "      <th></th>\n",
       "      <th></th>\n",
       "      <th></th>\n",
       "      <th></th>\n",
       "      <th></th>\n",
       "    </tr>\n",
       "  </thead>\n",
       "  <tbody>\n",
       "    <tr>\n",
       "      <th>1</th>\n",
       "      <td>Dec 18, 2009</td>\n",
       "      <td>Avatar</td>\n",
       "      <td>$425,000,000</td>\n",
       "      <td>$760,507,625</td>\n",
       "      <td>$2,776,345,279</td>\n",
       "    </tr>\n",
       "    <tr>\n",
       "      <th>2</th>\n",
       "      <td>May 20, 2011</td>\n",
       "      <td>Pirates of the Caribbean: On Stranger Tides</td>\n",
       "      <td>$410,600,000</td>\n",
       "      <td>$241,063,875</td>\n",
       "      <td>$1,045,663,875</td>\n",
       "    </tr>\n",
       "    <tr>\n",
       "      <th>3</th>\n",
       "      <td>Jun 7, 2019</td>\n",
       "      <td>Dark Phoenix</td>\n",
       "      <td>$350,000,000</td>\n",
       "      <td>$42,762,350</td>\n",
       "      <td>$149,762,350</td>\n",
       "    </tr>\n",
       "    <tr>\n",
       "      <th>4</th>\n",
       "      <td>May 1, 2015</td>\n",
       "      <td>Avengers: Age of Ultron</td>\n",
       "      <td>$330,600,000</td>\n",
       "      <td>$459,005,868</td>\n",
       "      <td>$1,403,013,963</td>\n",
       "    </tr>\n",
       "    <tr>\n",
       "      <th>5</th>\n",
       "      <td>Dec 15, 2017</td>\n",
       "      <td>Star Wars Ep. VIII: The Last Jedi</td>\n",
       "      <td>$317,000,000</td>\n",
       "      <td>$620,181,382</td>\n",
       "      <td>$1,316,721,747</td>\n",
       "    </tr>\n",
       "  </tbody>\n",
       "</table>\n",
       "</div>"
      ],
      "text/plain": [
       "    release_date                                        movie  \\\n",
       "id                                                              \n",
       "1   Dec 18, 2009                                       Avatar   \n",
       "2   May 20, 2011  Pirates of the Caribbean: On Stranger Tides   \n",
       "3    Jun 7, 2019                                 Dark Phoenix   \n",
       "4    May 1, 2015                      Avengers: Age of Ultron   \n",
       "5   Dec 15, 2017            Star Wars Ep. VIII: The Last Jedi   \n",
       "\n",
       "   production_budget domestic_gross worldwide_gross  \n",
       "id                                                   \n",
       "1       $425,000,000   $760,507,625  $2,776,345,279  \n",
       "2       $410,600,000   $241,063,875  $1,045,663,875  \n",
       "3       $350,000,000    $42,762,350    $149,762,350  \n",
       "4       $330,600,000   $459,005,868  $1,403,013,963  \n",
       "5       $317,000,000   $620,181,382  $1,316,721,747  "
      ]
     },
     "execution_count": 254,
     "metadata": {},
     "output_type": "execute_result"
    }
   ],
   "source": [
    "# import data from The Numbers\n",
    "df_thenumbers = pd.read_csv(\"./unzipped_data/tn.movie_budgets.csv\",index_col=0)\n",
    "print(\"Summary of the data on movie info from The Numbers:\")\n",
    "print(df_thenumbers.info())\n",
    "df_thenumbers.head()"
   ]
  },
  {
   "cell_type": "markdown",
   "id": "9699c3c1-60d2-4128-a4ff-2ab12cd1a8c8",
   "metadata": {},
   "source": [
    "This table will be the main source we will use to determine the ROI metric. It has more entries compared to the one from BOX Office Mojo; it has no NaNs so all the data can be used. Furthermore, it has data on the production budget, which is missing from the data extracted from the Box Office Mojo. One might consider scraping the web to find production budgets for the movies listed in the Box Office Mojo database but we choose to rely solely on this table for now.  "
   ]
  },
  {
   "cell_type": "markdown",
   "id": "859186c6-dbf8-4ce5-84a2-0312502ff3f0",
   "metadata": {},
   "source": [
    "Note that the production_bbudget, domestic_gross and worldwide_gross columns are of the type object. In order to easily do mathematical operations on them, we need to convert them to float. "
   ]
  },
  {
   "cell_type": "code",
   "execution_count": 255,
   "id": "76d3dfa3-8832-40ef-8e57-d790fcda40cc",
   "metadata": {},
   "outputs": [],
   "source": [
    "cols_to_convert = [\"production_budget\", \"domestic_gross\",\"worldwide_gross\"]\n",
    "\n",
    "for col in cols_to_convert:\n",
    "    df_thenumbers[col] = df_thenumbers[col].str.replace(\",\",\"\").replace(\"\\$\",\"\",regex=True).astype(float)"
   ]
  },
  {
   "cell_type": "code",
   "execution_count": 256,
   "id": "3a2f64f8-9688-4e1d-a2fd-e839f08dc85d",
   "metadata": {},
   "outputs": [
    {
     "data": {
      "text/html": [
       "<div>\n",
       "<style scoped>\n",
       "    .dataframe tbody tr th:only-of-type {\n",
       "        vertical-align: middle;\n",
       "    }\n",
       "\n",
       "    .dataframe tbody tr th {\n",
       "        vertical-align: top;\n",
       "    }\n",
       "\n",
       "    .dataframe thead th {\n",
       "        text-align: right;\n",
       "    }\n",
       "</style>\n",
       "<table border=\"1\" class=\"dataframe\">\n",
       "  <thead>\n",
       "    <tr style=\"text-align: right;\">\n",
       "      <th></th>\n",
       "      <th>production_budget</th>\n",
       "      <th>domestic_gross</th>\n",
       "      <th>worldwide_gross</th>\n",
       "    </tr>\n",
       "  </thead>\n",
       "  <tbody>\n",
       "    <tr>\n",
       "      <th>count</th>\n",
       "      <td>5.782000e+03</td>\n",
       "      <td>5.782000e+03</td>\n",
       "      <td>5.782000e+03</td>\n",
       "    </tr>\n",
       "    <tr>\n",
       "      <th>mean</th>\n",
       "      <td>3.158776e+07</td>\n",
       "      <td>4.187333e+07</td>\n",
       "      <td>9.148746e+07</td>\n",
       "    </tr>\n",
       "    <tr>\n",
       "      <th>std</th>\n",
       "      <td>4.181208e+07</td>\n",
       "      <td>6.824060e+07</td>\n",
       "      <td>1.747200e+08</td>\n",
       "    </tr>\n",
       "    <tr>\n",
       "      <th>min</th>\n",
       "      <td>1.100000e+03</td>\n",
       "      <td>0.000000e+00</td>\n",
       "      <td>0.000000e+00</td>\n",
       "    </tr>\n",
       "    <tr>\n",
       "      <th>25%</th>\n",
       "      <td>5.000000e+06</td>\n",
       "      <td>1.429534e+06</td>\n",
       "      <td>4.125415e+06</td>\n",
       "    </tr>\n",
       "    <tr>\n",
       "      <th>50%</th>\n",
       "      <td>1.700000e+07</td>\n",
       "      <td>1.722594e+07</td>\n",
       "      <td>2.798445e+07</td>\n",
       "    </tr>\n",
       "    <tr>\n",
       "      <th>75%</th>\n",
       "      <td>4.000000e+07</td>\n",
       "      <td>5.234866e+07</td>\n",
       "      <td>9.764584e+07</td>\n",
       "    </tr>\n",
       "    <tr>\n",
       "      <th>max</th>\n",
       "      <td>4.250000e+08</td>\n",
       "      <td>9.366622e+08</td>\n",
       "      <td>2.776345e+09</td>\n",
       "    </tr>\n",
       "  </tbody>\n",
       "</table>\n",
       "</div>"
      ],
      "text/plain": [
       "       production_budget  domestic_gross  worldwide_gross\n",
       "count       5.782000e+03    5.782000e+03     5.782000e+03\n",
       "mean        3.158776e+07    4.187333e+07     9.148746e+07\n",
       "std         4.181208e+07    6.824060e+07     1.747200e+08\n",
       "min         1.100000e+03    0.000000e+00     0.000000e+00\n",
       "25%         5.000000e+06    1.429534e+06     4.125415e+06\n",
       "50%         1.700000e+07    1.722594e+07     2.798445e+07\n",
       "75%         4.000000e+07    5.234866e+07     9.764584e+07\n",
       "max         4.250000e+08    9.366622e+08     2.776345e+09"
      ]
     },
     "execution_count": 256,
     "metadata": {},
     "output_type": "execute_result"
    }
   ],
   "source": [
    "df_thenumbers[cols_to_convert].describe() # take a look at some statistics for the data"
   ]
  },
  {
   "cell_type": "markdown",
   "id": "c9a23508-1a56-459a-b726-0a6e2832b2ac",
   "metadata": {},
   "source": [
    "## 3. Data Preparation"
   ]
  },
  {
   "cell_type": "markdown",
   "id": "8a6c49f2-0c38-4633-87aa-0761e81dc5b8",
   "metadata": {},
   "source": [
    "### 3.1. Box Office Mojo"
   ]
  },
  {
   "cell_type": "markdown",
   "id": "da0a8ada-e8df-42e1-92cb-03ec0721ff58",
   "metadata": {},
   "source": [
    "**Can we find movie budgets using web scraping?**"
   ]
  },
  {
   "cell_type": "markdown",
   "id": "02f60faf-3a29-49d2-b9f8-ba1268af46be",
   "metadata": {},
   "source": [
    "In this section, we will use web scraping to find the budget for movies listed in the Box Office Mojo dataset. We will first use the movie name to join the BOM dataset with the movie_basics table from the IMDB dataset. Then using the movie_id from the IMDB dataset, we can scrape the corresponding webpages to find the estimated budgets for each movie. "
   ]
  },
  {
   "cell_type": "code",
   "execution_count": 257,
   "id": "43961385-6ce9-460e-a104-071fd04ee880",
   "metadata": {},
   "outputs": [
    {
     "name": "stdout",
     "output_type": "stream",
     "text": [
      "percentage of missing data: 0.6200177147918512\n"
     ]
    },
    {
     "data": {
      "text/html": [
       "<div>\n",
       "<style scoped>\n",
       "    .dataframe tbody tr th:only-of-type {\n",
       "        vertical-align: middle;\n",
       "    }\n",
       "\n",
       "    .dataframe tbody tr th {\n",
       "        vertical-align: top;\n",
       "    }\n",
       "\n",
       "    .dataframe thead th {\n",
       "        text-align: right;\n",
       "    }\n",
       "</style>\n",
       "<table border=\"1\" class=\"dataframe\">\n",
       "  <thead>\n",
       "    <tr style=\"text-align: right;\">\n",
       "      <th></th>\n",
       "      <th>title</th>\n",
       "      <th>studio</th>\n",
       "      <th>domestic_gross</th>\n",
       "      <th>foreign_gross</th>\n",
       "      <th>year</th>\n",
       "      <th>movie_id</th>\n",
       "      <th>genres</th>\n",
       "    </tr>\n",
       "  </thead>\n",
       "  <tbody>\n",
       "    <tr>\n",
       "      <th>0</th>\n",
       "      <td>Toy Story 3</td>\n",
       "      <td>BV</td>\n",
       "      <td>415000000.0</td>\n",
       "      <td>652000000.0</td>\n",
       "      <td>2010</td>\n",
       "      <td>tt0435761</td>\n",
       "      <td>Adventure,Animation,Comedy</td>\n",
       "    </tr>\n",
       "    <tr>\n",
       "      <th>1</th>\n",
       "      <td>Inception</td>\n",
       "      <td>WB</td>\n",
       "      <td>292600000.0</td>\n",
       "      <td>535700000.0</td>\n",
       "      <td>2010</td>\n",
       "      <td>tt1375666</td>\n",
       "      <td>Action,Adventure,Sci-Fi</td>\n",
       "    </tr>\n",
       "    <tr>\n",
       "      <th>2</th>\n",
       "      <td>Shrek Forever After</td>\n",
       "      <td>P/DW</td>\n",
       "      <td>238700000.0</td>\n",
       "      <td>513900000.0</td>\n",
       "      <td>2010</td>\n",
       "      <td>tt0892791</td>\n",
       "      <td>Adventure,Animation,Comedy</td>\n",
       "    </tr>\n",
       "    <tr>\n",
       "      <th>3</th>\n",
       "      <td>The Twilight Saga: Eclipse</td>\n",
       "      <td>Sum.</td>\n",
       "      <td>300500000.0</td>\n",
       "      <td>398000000.0</td>\n",
       "      <td>2010</td>\n",
       "      <td>tt1325004</td>\n",
       "      <td>Adventure,Drama,Fantasy</td>\n",
       "    </tr>\n",
       "    <tr>\n",
       "      <th>4</th>\n",
       "      <td>Iron Man 2</td>\n",
       "      <td>Par.</td>\n",
       "      <td>312400000.0</td>\n",
       "      <td>311500000.0</td>\n",
       "      <td>2010</td>\n",
       "      <td>tt1228705</td>\n",
       "      <td>Action,Adventure,Sci-Fi</td>\n",
       "    </tr>\n",
       "    <tr>\n",
       "      <th>5</th>\n",
       "      <td>Tangled</td>\n",
       "      <td>BV</td>\n",
       "      <td>200800000.0</td>\n",
       "      <td>391000000.0</td>\n",
       "      <td>2010</td>\n",
       "      <td>tt0398286</td>\n",
       "      <td>Adventure,Animation,Comedy</td>\n",
       "    </tr>\n",
       "    <tr>\n",
       "      <th>6</th>\n",
       "      <td>Despicable Me</td>\n",
       "      <td>Uni.</td>\n",
       "      <td>251500000.0</td>\n",
       "      <td>291600000.0</td>\n",
       "      <td>2010</td>\n",
       "      <td>tt1323594</td>\n",
       "      <td>Animation,Comedy,Family</td>\n",
       "    </tr>\n",
       "    <tr>\n",
       "      <th>7</th>\n",
       "      <td>How to Train Your Dragon</td>\n",
       "      <td>P/DW</td>\n",
       "      <td>217600000.0</td>\n",
       "      <td>277300000.0</td>\n",
       "      <td>2010</td>\n",
       "      <td>tt0892769</td>\n",
       "      <td>Action,Adventure,Animation</td>\n",
       "    </tr>\n",
       "    <tr>\n",
       "      <th>8</th>\n",
       "      <td>The Chronicles of Narnia: The Voyage of the Da...</td>\n",
       "      <td>Fox</td>\n",
       "      <td>104400000.0</td>\n",
       "      <td>311300000.0</td>\n",
       "      <td>2010</td>\n",
       "      <td>tt0980970</td>\n",
       "      <td>Adventure,Family,Fantasy</td>\n",
       "    </tr>\n",
       "    <tr>\n",
       "      <th>9</th>\n",
       "      <td>The King's Speech</td>\n",
       "      <td>Wein.</td>\n",
       "      <td>135500000.0</td>\n",
       "      <td>275400000.0</td>\n",
       "      <td>2010</td>\n",
       "      <td>tt1504320</td>\n",
       "      <td>Biography,Drama,History</td>\n",
       "    </tr>\n",
       "  </tbody>\n",
       "</table>\n",
       "</div>"
      ],
      "text/plain": [
       "                                               title studio  domestic_gross  \\\n",
       "0                                        Toy Story 3     BV     415000000.0   \n",
       "1                                          Inception     WB     292600000.0   \n",
       "2                                Shrek Forever After   P/DW     238700000.0   \n",
       "3                         The Twilight Saga: Eclipse   Sum.     300500000.0   \n",
       "4                                         Iron Man 2   Par.     312400000.0   \n",
       "5                                            Tangled     BV     200800000.0   \n",
       "6                                      Despicable Me   Uni.     251500000.0   \n",
       "7                           How to Train Your Dragon   P/DW     217600000.0   \n",
       "8  The Chronicles of Narnia: The Voyage of the Da...    Fox     104400000.0   \n",
       "9                                  The King's Speech  Wein.     135500000.0   \n",
       "\n",
       "   foreign_gross  year   movie_id                      genres  \n",
       "0    652000000.0  2010  tt0435761  Adventure,Animation,Comedy  \n",
       "1    535700000.0  2010  tt1375666     Action,Adventure,Sci-Fi  \n",
       "2    513900000.0  2010  tt0892791  Adventure,Animation,Comedy  \n",
       "3    398000000.0  2010  tt1325004     Adventure,Drama,Fantasy  \n",
       "4    311500000.0  2010  tt1228705     Action,Adventure,Sci-Fi  \n",
       "5    391000000.0  2010  tt0398286  Adventure,Animation,Comedy  \n",
       "6    291600000.0  2010  tt1323594     Animation,Comedy,Family  \n",
       "7    277300000.0  2010  tt0892769  Action,Adventure,Animation  \n",
       "8    311300000.0  2010  tt0980970    Adventure,Family,Fantasy  \n",
       "9    275400000.0  2010  tt1504320     Biography,Drama,History  "
      ]
     },
     "execution_count": 257,
     "metadata": {},
     "output_type": "execute_result"
    }
   ],
   "source": [
    "q = \"\"\"SELECT movie_id, primary_title, genres FROM movie_basics\"\"\" # query to read the movie_basics table\n",
    "df_imdb_moviebasics = pd.read_sql(q, conn) # store the table in a pandas dataframe\n",
    "df_imdb_moviebasics.rename(columns = {\"primary_title\":\"title\"},inplace=True); # change primary_title column name to match the BOM dataset\n",
    "df_bom_imdb_merged = pd.merge(df_bom, df_imdb_moviebasics,how=\"inner\", on=\"title\") # merge the two tables\n",
    "print(\"percentage of missing data:\",(len(df_bom)-len(df_bom_imdb_merged))/len(df_bom)*100)\n",
    "df_bom_imdb_merged.head(10)"
   ]
  },
  {
   "cell_type": "markdown",
   "id": "11b8d8c9-b91f-441f-ba8d-953d026857ba",
   "metadata": {},
   "source": [
    "Let's remove portions of the data that have missing information on the foreign and domestic revenue. As mentioned in Section 2.1, this is about 40% of the data. "
   ]
  },
  {
   "cell_type": "code",
   "execution_count": 258,
   "id": "68a6d443-de0f-4fa8-b400-01ef62c0771a",
   "metadata": {},
   "outputs": [],
   "source": [
    "df_bom_imdb_merged.dropna(subset=[\"domestic_gross\", \"foreign_gross\"], inplace=True) "
   ]
  },
  {
   "cell_type": "markdown",
   "id": "9c7d0de3-f2b6-4627-9690-aa7527d5dce2",
   "metadata": {},
   "source": [
    "**Note:** IMDB prevents scraping of its webpages in this manner. We may need to scrape other sources such as OMDB to get this data. This may be a lot of additional effort. Let's first see how much additional data does this really provide us with?  "
   ]
  },
  {
   "cell_type": "markdown",
   "id": "4c84bd84-c29e-4a9f-8393-2462bde0a530",
   "metadata": {},
   "source": [
    "**Question:** How much additional data on movies does the Box Office Mojo dataset contain compared to the dataset from The Numbers? "
   ]
  },
  {
   "cell_type": "code",
   "execution_count": 259,
   "id": "37513dcf-2305-4dfc-8baa-c69a26a6f9c8",
   "metadata": {},
   "outputs": [
    {
     "name": "stdout",
     "output_type": "stream",
     "text": [
      "percentage of additional data contained in the Box Office Mojo Dataset compared to the dataset from The Numbers:\n"
     ]
    },
    {
     "data": {
      "text/plain": [
       "15.150466966447595"
      ]
     },
     "execution_count": 259,
     "metadata": {},
     "output_type": "execute_result"
    }
   ],
   "source": [
    "df_thenumbers.rename(columns={\"movie\":\"title\"},inplace=True)\n",
    "df_thenumbers[\"title\"] = df_thenumbers[\"title\"].str.title()\n",
    "print(\"percentage of additional data contained in the Box Office Mojo Dataset compared to the dataset from The Numbers:\")\n",
    "(len(df_bom_imdb_merged.index)-len(pd.merge(df_thenumbers,df_bom_imdb_merged,how=\"inner\",on=\"title\").index))/len(df_thenumbers.index)*100"
   ]
  },
  {
   "cell_type": "markdown",
   "id": "3dc26a2c-f33b-4bf8-b6c9-c358b4b57494",
   "metadata": {},
   "source": [
    "The additional data is about 10%. At this stage, we make a judgement call to ignore the dataset from Box Office Mojo and solely rely on the dataset from The Numbers. "
   ]
  },
  {
   "cell_type": "markdown",
   "id": "88c24c83-04df-4bda-9a38-cf694ab5e0d4",
   "metadata": {},
   "source": [
    "## IMDB"
   ]
  },
  {
   "cell_type": "code",
   "execution_count": 260,
   "id": "87e8429a-63db-4101-b312-af38bcd095fc",
   "metadata": {},
   "outputs": [
    {
     "name": "stdout",
     "output_type": "stream",
     "text": [
      "imdb_movie_id            0\n",
      "release_year             0\n",
      "title                    0\n",
      "genres                 804\n",
      "imdb_average_rating      0\n",
      "dtype: int64\n"
     ]
    },
    {
     "data": {
      "text/html": [
       "<div>\n",
       "<style scoped>\n",
       "    .dataframe tbody tr th:only-of-type {\n",
       "        vertical-align: middle;\n",
       "    }\n",
       "\n",
       "    .dataframe tbody tr th {\n",
       "        vertical-align: top;\n",
       "    }\n",
       "\n",
       "    .dataframe thead th {\n",
       "        text-align: right;\n",
       "    }\n",
       "</style>\n",
       "<table border=\"1\" class=\"dataframe\">\n",
       "  <thead>\n",
       "    <tr style=\"text-align: right;\">\n",
       "      <th></th>\n",
       "      <th>imdb_movie_id</th>\n",
       "      <th>release_year</th>\n",
       "      <th>title</th>\n",
       "      <th>genres</th>\n",
       "      <th>imdb_average_rating</th>\n",
       "    </tr>\n",
       "  </thead>\n",
       "  <tbody>\n",
       "    <tr>\n",
       "      <th>0</th>\n",
       "      <td>tt0063540</td>\n",
       "      <td>2013</td>\n",
       "      <td>Sunghursh</td>\n",
       "      <td>Action,Crime,Drama</td>\n",
       "      <td>7.0</td>\n",
       "    </tr>\n",
       "    <tr>\n",
       "      <th>1</th>\n",
       "      <td>tt0066787</td>\n",
       "      <td>2019</td>\n",
       "      <td>One Day Before The Rainy Season</td>\n",
       "      <td>Biography,Drama</td>\n",
       "      <td>7.2</td>\n",
       "    </tr>\n",
       "    <tr>\n",
       "      <th>2</th>\n",
       "      <td>tt0069049</td>\n",
       "      <td>2018</td>\n",
       "      <td>The Other Side Of The Wind</td>\n",
       "      <td>Drama</td>\n",
       "      <td>6.9</td>\n",
       "    </tr>\n",
       "    <tr>\n",
       "      <th>3</th>\n",
       "      <td>tt0069204</td>\n",
       "      <td>2018</td>\n",
       "      <td>Sabse Bada Sukh</td>\n",
       "      <td>Comedy,Drama</td>\n",
       "      <td>6.1</td>\n",
       "    </tr>\n",
       "    <tr>\n",
       "      <th>4</th>\n",
       "      <td>tt0100275</td>\n",
       "      <td>2017</td>\n",
       "      <td>The Wandering Soap Opera</td>\n",
       "      <td>Comedy,Drama,Fantasy</td>\n",
       "      <td>6.5</td>\n",
       "    </tr>\n",
       "  </tbody>\n",
       "</table>\n",
       "</div>"
      ],
      "text/plain": [
       "  imdb_movie_id  release_year                            title  \\\n",
       "0     tt0063540          2013                        Sunghursh   \n",
       "1     tt0066787          2019  One Day Before The Rainy Season   \n",
       "2     tt0069049          2018       The Other Side Of The Wind   \n",
       "3     tt0069204          2018                  Sabse Bada Sukh   \n",
       "4     tt0100275          2017         The Wandering Soap Opera   \n",
       "\n",
       "                 genres  imdb_average_rating  \n",
       "0    Action,Crime,Drama                  7.0  \n",
       "1       Biography,Drama                  7.2  \n",
       "2                 Drama                  6.9  \n",
       "3          Comedy,Drama                  6.1  \n",
       "4  Comedy,Drama,Fantasy                  6.5  "
      ]
     },
     "execution_count": 260,
     "metadata": {},
     "output_type": "execute_result"
    }
   ],
   "source": [
    "q2 = \"\"\"SELECT mvb.movie_id AS imdb_movie_id, mvb.start_year AS release_year, mvb.primary_title AS title, mvb.genres, mvr.averagerating AS imdb_average_rating\n",
    "            FROM movie_basics mvb\n",
    "                JOIN movie_ratings as mvr\n",
    "                USING(movie_id)\n",
    "\"\"\"\n",
    "df_imdb_mvr = pd.read_sql(q2,conn)\n",
    "df_imdb_mvr.head()\n",
    "df_imdb_mvr[\"title\"] = df_imdb_mvr[\"title\"].str.title()\n",
    "print(df_imdb_mvr.isna().sum())\n",
    "df_imdb_mvr.head()"
   ]
  },
  {
   "cell_type": "code",
   "execution_count": 261,
   "id": "79383bf7-93f7-4756-b3de-fae6ca8b31e8",
   "metadata": {},
   "outputs": [],
   "source": [
    "df_imdb_duplicate_title_year = pd.concat(g for _, g in df_imdb_mvr.groupby([\"title\",\"release_year\"]) if len(g) > 1)"
   ]
  },
  {
   "cell_type": "code",
   "execution_count": 262,
   "id": "6a5540dd-23ee-4708-a14e-a41f96033a9b",
   "metadata": {},
   "outputs": [],
   "source": [
    "df_imdb_mvr = df_imdb_mvr[~ df_imdb_mvr.duplicated(subset=['title','release_year'])]"
   ]
  },
  {
   "cell_type": "markdown",
   "id": "b164b516-b53e-4f00-973f-d8e25216b2b1",
   "metadata": {},
   "source": [
    "### 3.1. The Movie DataBase"
   ]
  },
  {
   "cell_type": "markdown",
   "id": "d60a6ab2-7657-4180-8546-07a9eea5a39f",
   "metadata": {},
   "source": [
    "**Replace genre ids with categories**"
   ]
  },
  {
   "cell_type": "code",
   "execution_count": 263,
   "id": "bc5dc8ca-7558-41a0-8de0-42f9ca6deb35",
   "metadata": {},
   "outputs": [],
   "source": [
    "df_genre_tmdb[\"id\"].to_list()\n",
    "df_genre_tmdb[\"genre\"].str.strip().to_list()\n",
    "# make a dictionary where keys are genre ids and values are the actual genres\n",
    "genre_tmdb_dict = {key:value for key,value in zip(df_genre_tmdb[\"id\"].to_list(),df_genre_tmdb[\"genre\"].str.strip().to_list())}"
   ]
  },
  {
   "cell_type": "code",
   "execution_count": 264,
   "id": "49d8c505-803b-4821-9ce8-112f9473a135",
   "metadata": {},
   "outputs": [],
   "source": [
    "def replace_id_with_genre(key_list: list, genre_dict: dict) -> str:\n",
    "    \"\"\"Given a list of keys from a dictionary, this function replaces the keys with associated values.\n",
    "    \n",
    "    Args:\n",
    "        key_list: list containing certain keys in a dictionary\n",
    "        genre_dict: the dictionary itself\n",
    "    \n",
    "    Returns:\n",
    "        A string containing corresponding values in genre_dict\n",
    "    \"\"\"\n",
    "    value_list = [genre_dict.get(id,id) for id in ast.literal_eval(key_list)] \n",
    "    return \",\".join(value_list)\n",
    "\n",
    "# apply the function to the series\n",
    "df_movie_tmdb[\"genre_ids\"] = df_movie_tmdb[\"genre_ids\"].apply(func = replace_id_with_genre, genre_dict = genre_tmdb_dict)\n",
    "df_movie_tmdb.rename(columns={\"genre_ids\":\"genres_category\",\"vote_average\":\"tmdb_average_rating\"},inplace=True)"
   ]
  },
  {
   "cell_type": "code",
   "execution_count": 265,
   "id": "bb19ac2e-6ab6-47b0-9f0f-883f052f16d6",
   "metadata": {},
   "outputs": [
    {
     "data": {
      "text/html": [
       "<div>\n",
       "<style scoped>\n",
       "    .dataframe tbody tr th:only-of-type {\n",
       "        vertical-align: middle;\n",
       "    }\n",
       "\n",
       "    .dataframe tbody tr th {\n",
       "        vertical-align: top;\n",
       "    }\n",
       "\n",
       "    .dataframe thead th {\n",
       "        text-align: right;\n",
       "    }\n",
       "</style>\n",
       "<table border=\"1\" class=\"dataframe\">\n",
       "  <thead>\n",
       "    <tr style=\"text-align: right;\">\n",
       "      <th></th>\n",
       "      <th>genres_category</th>\n",
       "      <th>id</th>\n",
       "      <th>original_language</th>\n",
       "      <th>original_title</th>\n",
       "      <th>popularity</th>\n",
       "      <th>release_date</th>\n",
       "      <th>title</th>\n",
       "      <th>tmdb_average_rating</th>\n",
       "      <th>vote_count</th>\n",
       "    </tr>\n",
       "  </thead>\n",
       "  <tbody>\n",
       "    <tr>\n",
       "      <th>0</th>\n",
       "      <td>Adventure,Fantasy,Family</td>\n",
       "      <td>12444</td>\n",
       "      <td>en</td>\n",
       "      <td>Harry Potter and the Deathly Hallows: Part 1</td>\n",
       "      <td>33.533</td>\n",
       "      <td>2010-11-19</td>\n",
       "      <td>Harry Potter and the Deathly Hallows: Part 1</td>\n",
       "      <td>7.7</td>\n",
       "      <td>10788</td>\n",
       "    </tr>\n",
       "    <tr>\n",
       "      <th>1</th>\n",
       "      <td>Fantasy,Adventure,Animation,Family</td>\n",
       "      <td>10191</td>\n",
       "      <td>en</td>\n",
       "      <td>How to Train Your Dragon</td>\n",
       "      <td>28.734</td>\n",
       "      <td>2010-03-26</td>\n",
       "      <td>How to Train Your Dragon</td>\n",
       "      <td>7.7</td>\n",
       "      <td>7610</td>\n",
       "    </tr>\n",
       "    <tr>\n",
       "      <th>2</th>\n",
       "      <td>Adventure,Action,Science Fiction</td>\n",
       "      <td>10138</td>\n",
       "      <td>en</td>\n",
       "      <td>Iron Man 2</td>\n",
       "      <td>28.515</td>\n",
       "      <td>2010-05-07</td>\n",
       "      <td>Iron Man 2</td>\n",
       "      <td>6.8</td>\n",
       "      <td>12368</td>\n",
       "    </tr>\n",
       "  </tbody>\n",
       "</table>\n",
       "</div>"
      ],
      "text/plain": [
       "                      genres_category     id original_language  \\\n",
       "0            Adventure,Fantasy,Family  12444                en   \n",
       "1  Fantasy,Adventure,Animation,Family  10191                en   \n",
       "2    Adventure,Action,Science Fiction  10138                en   \n",
       "\n",
       "                                 original_title  popularity release_date  \\\n",
       "0  Harry Potter and the Deathly Hallows: Part 1      33.533   2010-11-19   \n",
       "1                      How to Train Your Dragon      28.734   2010-03-26   \n",
       "2                                    Iron Man 2      28.515   2010-05-07   \n",
       "\n",
       "                                          title  tmdb_average_rating  \\\n",
       "0  Harry Potter and the Deathly Hallows: Part 1                  7.7   \n",
       "1                      How to Train Your Dragon                  7.7   \n",
       "2                                    Iron Man 2                  6.8   \n",
       "\n",
       "   vote_count  \n",
       "0       10788  \n",
       "1        7610  \n",
       "2       12368  "
      ]
     },
     "execution_count": 265,
     "metadata": {},
     "output_type": "execute_result"
    }
   ],
   "source": [
    "df_movie_tmdb.head(3) # take a peek at the data"
   ]
  },
  {
   "cell_type": "markdown",
   "id": "abe4a983-3210-49ee-9acf-7201afe47cfc",
   "metadata": {},
   "source": [
    "**Make necessary changes to data types**"
   ]
  },
  {
   "cell_type": "code",
   "execution_count": 266,
   "id": "b288ec4a-664b-4eaa-87fb-07e5f85daac7",
   "metadata": {},
   "outputs": [],
   "source": [
    "# change the data type for release_date to datetime\n",
    "df_movie_tmdb[\"release_date\"] = pd.to_datetime(df_movie_tmdb[\"release_date\"])\n",
    "# create a column release_year that contains only the year. This will come in handy later on when doing merges\n",
    "df_movie_tmdb[\"release_year\"] = df_movie_tmdb[\"release_date\"].dt.year"
   ]
  },
  {
   "cell_type": "markdown",
   "id": "cc2104df-2f89-4c2e-b89e-d4b9ccc902a0",
   "metadata": {},
   "source": [
    "**Address entries with duplicate titles**"
   ]
  },
  {
   "cell_type": "code",
   "execution_count": 267,
   "id": "288546ab-6557-46f2-ba28-0b04bf2c91f0",
   "metadata": {},
   "outputs": [],
   "source": [
    "#df_movie_tmdb[df_movie_tmdb.duplicated(subset = [\"title\",\"release_year\"])]\n",
    "len(pd.concat(g for _, g in df_movie_tmdb.groupby([\"title\",\"id\"]) if len(g) > 1))\n",
    "df_movie_tmdb.drop_duplicates(subset=['title','id'], keep='first', inplace=True)"
   ]
  },
  {
   "cell_type": "markdown",
   "id": "9e720691-192c-47ab-bd1a-64b6128564d6",
   "metadata": {},
   "source": [
    "### 3.3. The Numbers"
   ]
  },
  {
   "cell_type": "markdown",
   "id": "ad00061d-5883-410b-86a1-d83a26893dd7",
   "metadata": {},
   "source": [
    "**Calculate the domestic and worldwide ROI**"
   ]
  },
  {
   "cell_type": "markdown",
   "id": "906e514d-e9c9-4670-8521-1672e9af0315",
   "metadata": {},
   "source": [
    "Let's add another column to this table that contains the ROI. We can consider an ROI that only considers the domestic revenue and another one that considers both domestic and foregin revenues. "
   ]
  },
  {
   "cell_type": "code",
   "execution_count": 268,
   "id": "1ae3a028-2b7a-47c7-b427-67ba02d9ad91",
   "metadata": {},
   "outputs": [],
   "source": [
    "df_thenumbers[\"ROI_domestic\"] = (df_thenumbers[\"domestic_gross\"] - df_thenumbers[\"production_budget\"])/df_thenumbers[\"production_budget\"]*100\n",
    "df_thenumbers[\"ROI_worldwide\"] = (df_thenumbers[\"worldwide_gross\"] - df_thenumbers[\"production_budget\"])/df_thenumbers[\"production_budget\"]*100"
   ]
  },
  {
   "cell_type": "code",
   "execution_count": 269,
   "id": "4e4b4a36-3904-4b1a-b396-f3c0b0b53552",
   "metadata": {},
   "outputs": [],
   "source": [
    "# change the data type for release_date to datetime\n",
    "df_thenumbers[\"release_date\"] = pd.to_datetime(df_thenumbers[\"release_date\"])\n",
    "# create a column release_year that contains only the year. This will come in handy later on when doing merges\n",
    "df_thenumbers[\"release_year\"] = df_thenumbers[\"release_date\"].dt.year"
   ]
  },
  {
   "cell_type": "markdown",
   "id": "d3938345-cf04-43cc-b93c-a5bf9e6838f5",
   "metadata": {},
   "source": [
    "Let's sort the dataframe based on ROI from highest to lowest to identify the most profitable movies. "
   ]
  },
  {
   "cell_type": "code",
   "execution_count": 270,
   "id": "5c79d7d8-14d2-4a1f-b8af-0ac78dddc553",
   "metadata": {},
   "outputs": [
    {
     "data": {
      "text/html": [
       "<div>\n",
       "<style scoped>\n",
       "    .dataframe tbody tr th:only-of-type {\n",
       "        vertical-align: middle;\n",
       "    }\n",
       "\n",
       "    .dataframe tbody tr th {\n",
       "        vertical-align: top;\n",
       "    }\n",
       "\n",
       "    .dataframe thead th {\n",
       "        text-align: right;\n",
       "    }\n",
       "</style>\n",
       "<table border=\"1\" class=\"dataframe\">\n",
       "  <thead>\n",
       "    <tr style=\"text-align: right;\">\n",
       "      <th></th>\n",
       "      <th>release_date</th>\n",
       "      <th>title</th>\n",
       "      <th>production_budget</th>\n",
       "      <th>domestic_gross</th>\n",
       "      <th>worldwide_gross</th>\n",
       "      <th>ROI_domestic</th>\n",
       "      <th>ROI_worldwide</th>\n",
       "      <th>release_year</th>\n",
       "    </tr>\n",
       "    <tr>\n",
       "      <th>id</th>\n",
       "      <th></th>\n",
       "      <th></th>\n",
       "      <th></th>\n",
       "      <th></th>\n",
       "      <th></th>\n",
       "      <th></th>\n",
       "      <th></th>\n",
       "      <th></th>\n",
       "    </tr>\n",
       "  </thead>\n",
       "  <tbody>\n",
       "    <tr>\n",
       "      <th>46</th>\n",
       "      <td>1972-06-30</td>\n",
       "      <td>Deep Throat</td>\n",
       "      <td>25000.0</td>\n",
       "      <td>45000000.0</td>\n",
       "      <td>45000000.0</td>\n",
       "      <td>179900.000000</td>\n",
       "      <td>179900.000000</td>\n",
       "      <td>1972</td>\n",
       "    </tr>\n",
       "    <tr>\n",
       "      <th>14</th>\n",
       "      <td>1980-03-21</td>\n",
       "      <td>Mad Max</td>\n",
       "      <td>200000.0</td>\n",
       "      <td>8750000.0</td>\n",
       "      <td>99750000.0</td>\n",
       "      <td>4275.000000</td>\n",
       "      <td>49775.000000</td>\n",
       "      <td>1980</td>\n",
       "    </tr>\n",
       "    <tr>\n",
       "      <th>93</th>\n",
       "      <td>2009-09-25</td>\n",
       "      <td>Paranormal Activity</td>\n",
       "      <td>450000.0</td>\n",
       "      <td>107918810.0</td>\n",
       "      <td>194183034.0</td>\n",
       "      <td>23881.957778</td>\n",
       "      <td>43051.785333</td>\n",
       "      <td>2009</td>\n",
       "    </tr>\n",
       "    <tr>\n",
       "      <th>80</th>\n",
       "      <td>2015-07-10</td>\n",
       "      <td>The Gallows</td>\n",
       "      <td>100000.0</td>\n",
       "      <td>22764410.0</td>\n",
       "      <td>41656474.0</td>\n",
       "      <td>22664.410000</td>\n",
       "      <td>41556.474000</td>\n",
       "      <td>2015</td>\n",
       "    </tr>\n",
       "    <tr>\n",
       "      <th>7</th>\n",
       "      <td>1999-07-14</td>\n",
       "      <td>The Blair Witch Project</td>\n",
       "      <td>600000.0</td>\n",
       "      <td>140539099.0</td>\n",
       "      <td>248300000.0</td>\n",
       "      <td>23323.183167</td>\n",
       "      <td>41283.333333</td>\n",
       "      <td>1999</td>\n",
       "    </tr>\n",
       "  </tbody>\n",
       "</table>\n",
       "</div>"
      ],
      "text/plain": [
       "   release_date                    title  production_budget  domestic_gross  \\\n",
       "id                                                                            \n",
       "46   1972-06-30              Deep Throat            25000.0      45000000.0   \n",
       "14   1980-03-21                  Mad Max           200000.0       8750000.0   \n",
       "93   2009-09-25      Paranormal Activity           450000.0     107918810.0   \n",
       "80   2015-07-10              The Gallows           100000.0      22764410.0   \n",
       "7    1999-07-14  The Blair Witch Project           600000.0     140539099.0   \n",
       "\n",
       "    worldwide_gross   ROI_domestic  ROI_worldwide  release_year  \n",
       "id                                                               \n",
       "46       45000000.0  179900.000000  179900.000000          1972  \n",
       "14       99750000.0    4275.000000   49775.000000          1980  \n",
       "93      194183034.0   23881.957778   43051.785333          2009  \n",
       "80       41656474.0   22664.410000   41556.474000          2015  \n",
       "7       248300000.0   23323.183167   41283.333333          1999  "
      ]
     },
     "execution_count": 270,
     "metadata": {},
     "output_type": "execute_result"
    }
   ],
   "source": [
    "df_thenumbers.sort_values(by=\"ROI_worldwide\", ascending=False).head(5)"
   ]
  },
  {
   "cell_type": "markdown",
   "id": "a9937ed9-99e0-48da-98bd-346d0155c573",
   "metadata": {},
   "source": [
    "**Add Genre and movie rating information to the dataset**"
   ]
  },
  {
   "cell_type": "markdown",
   "id": "0fb0cf3a-6633-40e7-9ac5-73866f715cce",
   "metadata": {},
   "source": [
    "**Addressing duplicate entries**"
   ]
  },
  {
   "cell_type": "markdown",
   "id": "cd21c61a-49b8-4592-be4b-321167fedf79",
   "metadata": {},
   "source": [
    "**Question:** Are there any movies with duplicate title and year in the dataset? "
   ]
  },
  {
   "cell_type": "code",
   "execution_count": 271,
   "id": "9c878b65-36b1-4d4f-aeda-47f907a2dd0e",
   "metadata": {},
   "outputs": [
    {
     "data": {
      "text/html": [
       "<div>\n",
       "<style scoped>\n",
       "    .dataframe tbody tr th:only-of-type {\n",
       "        vertical-align: middle;\n",
       "    }\n",
       "\n",
       "    .dataframe tbody tr th {\n",
       "        vertical-align: top;\n",
       "    }\n",
       "\n",
       "    .dataframe thead th {\n",
       "        text-align: right;\n",
       "    }\n",
       "</style>\n",
       "<table border=\"1\" class=\"dataframe\">\n",
       "  <thead>\n",
       "    <tr style=\"text-align: right;\">\n",
       "      <th></th>\n",
       "      <th>release_date</th>\n",
       "      <th>title</th>\n",
       "      <th>production_budget</th>\n",
       "      <th>domestic_gross</th>\n",
       "      <th>worldwide_gross</th>\n",
       "      <th>ROI_domestic</th>\n",
       "      <th>ROI_worldwide</th>\n",
       "      <th>release_year</th>\n",
       "    </tr>\n",
       "    <tr>\n",
       "      <th>id</th>\n",
       "      <th></th>\n",
       "      <th></th>\n",
       "      <th></th>\n",
       "      <th></th>\n",
       "      <th></th>\n",
       "      <th></th>\n",
       "      <th></th>\n",
       "      <th></th>\n",
       "    </tr>\n",
       "  </thead>\n",
       "  <tbody>\n",
       "    <tr>\n",
       "      <th>56</th>\n",
       "      <td>2009-06-05</td>\n",
       "      <td>Home</td>\n",
       "      <td>12000000.0</td>\n",
       "      <td>0.0</td>\n",
       "      <td>0.0</td>\n",
       "      <td>-100.0000</td>\n",
       "      <td>-100.0000</td>\n",
       "      <td>2009</td>\n",
       "    </tr>\n",
       "    <tr>\n",
       "      <th>60</th>\n",
       "      <td>2009-04-23</td>\n",
       "      <td>Home</td>\n",
       "      <td>500000.0</td>\n",
       "      <td>15433.0</td>\n",
       "      <td>44793168.0</td>\n",
       "      <td>-96.9134</td>\n",
       "      <td>8858.6336</td>\n",
       "      <td>2009</td>\n",
       "    </tr>\n",
       "  </tbody>\n",
       "</table>\n",
       "</div>"
      ],
      "text/plain": [
       "   release_date title  production_budget  domestic_gross  worldwide_gross  \\\n",
       "id                                                                          \n",
       "56   2009-06-05  Home         12000000.0             0.0              0.0   \n",
       "60   2009-04-23  Home           500000.0         15433.0       44793168.0   \n",
       "\n",
       "    ROI_domestic  ROI_worldwide  release_year  \n",
       "id                                             \n",
       "56     -100.0000      -100.0000          2009  \n",
       "60      -96.9134      8858.6336          2009  "
      ]
     },
     "execution_count": 271,
     "metadata": {},
     "output_type": "execute_result"
    }
   ],
   "source": [
    "df_thenumbers[df_thenumbers.duplicated(subset = [\"title\",\"release_year\"])]\n",
    "pd.concat(g for _, g in df_thenumbers.groupby([\"title\",\"release_year\"]) if len(g) > 1)"
   ]
  },
  {
   "cell_type": "markdown",
   "id": "ed58691e-4cf2-4838-8d62-b7c425cc160e",
   "metadata": {},
   "source": [
    "The data in row 56 seems suspicious. We will choose to drop this row. "
   ]
  },
  {
   "cell_type": "code",
   "execution_count": 272,
   "id": "b28acb03-5ce2-4284-8cce-a97820fe359f",
   "metadata": {},
   "outputs": [],
   "source": [
    "df_thenumbers.drop(index=56,inplace=True)"
   ]
  },
  {
   "cell_type": "markdown",
   "id": "ca4a48cc-409f-4de0-b138-26ea9a52f011",
   "metadata": {},
   "source": [
    "**Question:** Are there any movies with duplicate tilte? "
   ]
  },
  {
   "cell_type": "code",
   "execution_count": 273,
   "id": "767a577d-c709-49b8-aff2-93eaeeb2302d",
   "metadata": {},
   "outputs": [
    {
     "name": "stdout",
     "output_type": "stream",
     "text": [
      "There are  82 entries with duplicate titles.\n"
     ]
    },
    {
     "data": {
      "text/html": [
       "<div>\n",
       "<style scoped>\n",
       "    .dataframe tbody tr th:only-of-type {\n",
       "        vertical-align: middle;\n",
       "    }\n",
       "\n",
       "    .dataframe tbody tr th {\n",
       "        vertical-align: top;\n",
       "    }\n",
       "\n",
       "    .dataframe thead th {\n",
       "        text-align: right;\n",
       "    }\n",
       "</style>\n",
       "<table border=\"1\" class=\"dataframe\">\n",
       "  <thead>\n",
       "    <tr style=\"text-align: right;\">\n",
       "      <th></th>\n",
       "      <th>release_date</th>\n",
       "      <th>title</th>\n",
       "      <th>production_budget</th>\n",
       "      <th>domestic_gross</th>\n",
       "      <th>worldwide_gross</th>\n",
       "      <th>ROI_domestic</th>\n",
       "      <th>ROI_worldwide</th>\n",
       "      <th>release_year</th>\n",
       "    </tr>\n",
       "    <tr>\n",
       "      <th>id</th>\n",
       "      <th></th>\n",
       "      <th></th>\n",
       "      <th></th>\n",
       "      <th></th>\n",
       "      <th></th>\n",
       "      <th></th>\n",
       "      <th></th>\n",
       "      <th></th>\n",
       "    </tr>\n",
       "  </thead>\n",
       "  <tbody>\n",
       "    <tr>\n",
       "      <th>71</th>\n",
       "      <td>1954-12-23</td>\n",
       "      <td>20,000 Leagues Under The Sea</td>\n",
       "      <td>5000000.0</td>\n",
       "      <td>28200000.0</td>\n",
       "      <td>28200000.0</td>\n",
       "      <td>464.000000</td>\n",
       "      <td>464.000000</td>\n",
       "      <td>1954</td>\n",
       "    </tr>\n",
       "    <tr>\n",
       "      <th>15</th>\n",
       "      <td>1916-12-24</td>\n",
       "      <td>20,000 Leagues Under The Sea</td>\n",
       "      <td>200000.0</td>\n",
       "      <td>8000000.0</td>\n",
       "      <td>8000000.0</td>\n",
       "      <td>3900.000000</td>\n",
       "      <td>3900.000000</td>\n",
       "      <td>1916</td>\n",
       "    </tr>\n",
       "    <tr>\n",
       "      <th>49</th>\n",
       "      <td>2010-04-30</td>\n",
       "      <td>A Nightmare On Elm Street</td>\n",
       "      <td>35000000.0</td>\n",
       "      <td>63075011.0</td>\n",
       "      <td>117729621.0</td>\n",
       "      <td>80.214317</td>\n",
       "      <td>236.370346</td>\n",
       "      <td>2010</td>\n",
       "    </tr>\n",
       "    <tr>\n",
       "      <th>17</th>\n",
       "      <td>1984-11-09</td>\n",
       "      <td>A Nightmare On Elm Street</td>\n",
       "      <td>1800000.0</td>\n",
       "      <td>25504513.0</td>\n",
       "      <td>25504513.0</td>\n",
       "      <td>1316.917389</td>\n",
       "      <td>1316.917389</td>\n",
       "      <td>1984</td>\n",
       "    </tr>\n",
       "    <tr>\n",
       "      <th>81</th>\n",
       "      <td>2019-05-24</td>\n",
       "      <td>Aladdin</td>\n",
       "      <td>182000000.0</td>\n",
       "      <td>246734314.0</td>\n",
       "      <td>619234314.0</td>\n",
       "      <td>35.568304</td>\n",
       "      <td>240.238634</td>\n",
       "      <td>2019</td>\n",
       "    </tr>\n",
       "    <tr>\n",
       "      <th>33</th>\n",
       "      <td>1992-11-11</td>\n",
       "      <td>Aladdin</td>\n",
       "      <td>28000000.0</td>\n",
       "      <td>217350219.0</td>\n",
       "      <td>504050219.0</td>\n",
       "      <td>676.250782</td>\n",
       "      <td>1700.179354</td>\n",
       "      <td>1992</td>\n",
       "    </tr>\n",
       "  </tbody>\n",
       "</table>\n",
       "</div>"
      ],
      "text/plain": [
       "   release_date                         title  production_budget  \\\n",
       "id                                                                 \n",
       "71   1954-12-23  20,000 Leagues Under The Sea          5000000.0   \n",
       "15   1916-12-24  20,000 Leagues Under The Sea           200000.0   \n",
       "49   2010-04-30     A Nightmare On Elm Street         35000000.0   \n",
       "17   1984-11-09     A Nightmare On Elm Street          1800000.0   \n",
       "81   2019-05-24                       Aladdin        182000000.0   \n",
       "33   1992-11-11                       Aladdin         28000000.0   \n",
       "\n",
       "    domestic_gross  worldwide_gross  ROI_domestic  ROI_worldwide  release_year  \n",
       "id                                                                              \n",
       "71      28200000.0       28200000.0    464.000000     464.000000          1954  \n",
       "15       8000000.0        8000000.0   3900.000000    3900.000000          1916  \n",
       "49      63075011.0      117729621.0     80.214317     236.370346          2010  \n",
       "17      25504513.0       25504513.0   1316.917389    1316.917389          1984  \n",
       "81     246734314.0      619234314.0     35.568304     240.238634          2019  \n",
       "33     217350219.0      504050219.0    676.250782    1700.179354          1992  "
      ]
     },
     "execution_count": 273,
     "metadata": {},
     "output_type": "execute_result"
    }
   ],
   "source": [
    "print(\"There are \", df_thenumbers.duplicated(subset=\"title\").sum(), \"entries with duplicate titles.\")\n",
    "pd.concat(g for _, g in df_thenumbers.groupby([\"title\"]) if len(g) > 1).head(6)"
   ]
  },
  {
   "cell_type": "markdown",
   "id": "0ae1a127-5f8f-4f0c-a013-379677c89411",
   "metadata": {},
   "source": [
    "There are clearly movies with duplicate titles but different release years. If we merge this dataset with the ones fro IMDB/TMDB using both title and release year, we will get a lot of NaNs because slight differences in the title string or release year will prevent a match. I prefer to join only based on title but the duplicate titles in both this dataset and the one from IMDB will cause issues because upon merge, they will get duplicated many times, creating entries with fake data. We don't want that. Since movies with duplicate titles are only a small portion of the whole database, we will store them in a separate dataframe for now and will drop them from the main dataset. We can work on integrating these entries in a neater way later on. "
   ]
  },
  {
   "cell_type": "code",
   "execution_count": 274,
   "id": "4891ab0d-9e60-457b-a665-2dee7e987ba5",
   "metadata": {},
   "outputs": [],
   "source": [
    "df_tn_duplicate_titles = pd.concat(g for _, g in df_thenumbers.groupby([\"title\"]) if len(g) > 1)\n",
    "df_thenumbers_noduplicates = df_thenumbers[~ df_thenumbers.duplicated(subset=\"title\")]"
   ]
  },
  {
   "cell_type": "code",
   "execution_count": 275,
   "id": "5a713ff0-64a1-48a1-828c-de2427a20803",
   "metadata": {},
   "outputs": [
    {
     "name": "stdout",
     "output_type": "stream",
     "text": [
      "release_date              0\n",
      "title                     0\n",
      "production_budget         0\n",
      "domestic_gross            0\n",
      "worldwide_gross           0\n",
      "ROI_domestic              0\n",
      "ROI_worldwide             0\n",
      "release_year              0\n",
      "imdb_movie_id          4237\n",
      "genres                 3718\n",
      "imdb_average_rating    4237\n",
      "tmdb_average_rating    4117\n",
      "dtype: int64\n"
     ]
    },
    {
     "data": {
      "text/plain": [
       "release_year\n",
       "2015    85\n",
       "2010    80\n",
       "2011    47\n",
       "2016    43\n",
       "2012    39\n",
       "2014    38\n",
       "2013    36\n",
       "2017    31\n",
       "2019    21\n",
       "2018    14\n",
       "2020     3\n",
       "Name: count, dtype: int64"
      ]
     },
     "execution_count": 275,
     "metadata": {},
     "output_type": "execute_result"
    }
   ],
   "source": [
    "# merge the dataset from The Numbers with the dataset from IMDB to record the genres as well as ratings\n",
    "df_tn_imdb_merged = pd.merge(df_thenumbers_noduplicates, df_imdb_mvr, on=['title','release_year'], how=\"left\")\n",
    "\n",
    "df_merged_all = pd.merge(df_tn_imdb_merged, df_movie_tmdb[[\"title\",\"genres_category\",\"tmdb_average_rating\"]], on=\"title\", how=\"left\")\n",
    "\n",
    "df_merged_all[\"genres\"]=df_merged_all[\"genres\"].fillna(df_merged_all[\"genres_category\"])\n",
    "\n",
    "df_merged_all.drop(columns = \"genres_category\", inplace=True)\n",
    "print(df_merged_all.isna().sum())\n",
    "\n",
    "df_merged_all[(df_merged_all['genres'].isna()) & (df_merged_all['release_year']>=2010)]['release_year'].value_counts().sort_values(ascending=False)"
   ]
  },
  {
   "cell_type": "code",
   "execution_count": 276,
   "id": "f121eea1-eaa5-4ddd-858b-c9eccbdf6161",
   "metadata": {},
   "outputs": [
    {
     "data": {
      "text/html": [
       "<div>\n",
       "<style scoped>\n",
       "    .dataframe tbody tr th:only-of-type {\n",
       "        vertical-align: middle;\n",
       "    }\n",
       "\n",
       "    .dataframe tbody tr th {\n",
       "        vertical-align: top;\n",
       "    }\n",
       "\n",
       "    .dataframe thead th {\n",
       "        text-align: right;\n",
       "    }\n",
       "</style>\n",
       "<table border=\"1\" class=\"dataframe\">\n",
       "  <thead>\n",
       "    <tr style=\"text-align: right;\">\n",
       "      <th></th>\n",
       "      <th>release_date</th>\n",
       "      <th>title</th>\n",
       "      <th>production_budget</th>\n",
       "      <th>domestic_gross</th>\n",
       "      <th>worldwide_gross</th>\n",
       "      <th>ROI_domestic</th>\n",
       "      <th>ROI_worldwide</th>\n",
       "      <th>release_year</th>\n",
       "      <th>imdb_movie_id</th>\n",
       "      <th>genres</th>\n",
       "      <th>imdb_average_rating</th>\n",
       "      <th>tmdb_average_rating</th>\n",
       "    </tr>\n",
       "  </thead>\n",
       "  <tbody>\n",
       "    <tr>\n",
       "      <th>5790</th>\n",
       "      <td>1972-06-30</td>\n",
       "      <td>Deep Throat</td>\n",
       "      <td>25000.0</td>\n",
       "      <td>45000000.0</td>\n",
       "      <td>45000000.0</td>\n",
       "      <td>179900.000000</td>\n",
       "      <td>179900.000000</td>\n",
       "      <td>1972</td>\n",
       "      <td>NaN</td>\n",
       "      <td>NaN</td>\n",
       "      <td>NaN</td>\n",
       "      <td>NaN</td>\n",
       "    </tr>\n",
       "    <tr>\n",
       "      <th>5666</th>\n",
       "      <td>1980-03-21</td>\n",
       "      <td>Mad Max</td>\n",
       "      <td>200000.0</td>\n",
       "      <td>8750000.0</td>\n",
       "      <td>99750000.0</td>\n",
       "      <td>4275.000000</td>\n",
       "      <td>49775.000000</td>\n",
       "      <td>1980</td>\n",
       "      <td>NaN</td>\n",
       "      <td>NaN</td>\n",
       "      <td>NaN</td>\n",
       "      <td>NaN</td>\n",
       "    </tr>\n",
       "    <tr>\n",
       "      <th>5541</th>\n",
       "      <td>2009-09-25</td>\n",
       "      <td>Paranormal Activity</td>\n",
       "      <td>450000.0</td>\n",
       "      <td>107918810.0</td>\n",
       "      <td>194183034.0</td>\n",
       "      <td>23881.957778</td>\n",
       "      <td>43051.785333</td>\n",
       "      <td>2009</td>\n",
       "      <td>NaN</td>\n",
       "      <td>NaN</td>\n",
       "      <td>NaN</td>\n",
       "      <td>NaN</td>\n",
       "    </tr>\n",
       "    <tr>\n",
       "      <th>5724</th>\n",
       "      <td>2015-07-10</td>\n",
       "      <td>The Gallows</td>\n",
       "      <td>100000.0</td>\n",
       "      <td>22764410.0</td>\n",
       "      <td>41656474.0</td>\n",
       "      <td>22664.410000</td>\n",
       "      <td>41556.474000</td>\n",
       "      <td>2015</td>\n",
       "      <td>tt2309260</td>\n",
       "      <td>Horror,Mystery,Thriller</td>\n",
       "      <td>4.2</td>\n",
       "      <td>4.8</td>\n",
       "    </tr>\n",
       "    <tr>\n",
       "      <th>5456</th>\n",
       "      <td>1999-07-14</td>\n",
       "      <td>The Blair Witch Project</td>\n",
       "      <td>600000.0</td>\n",
       "      <td>140539099.0</td>\n",
       "      <td>248300000.0</td>\n",
       "      <td>23323.183167</td>\n",
       "      <td>41283.333333</td>\n",
       "      <td>1999</td>\n",
       "      <td>NaN</td>\n",
       "      <td>NaN</td>\n",
       "      <td>NaN</td>\n",
       "      <td>NaN</td>\n",
       "    </tr>\n",
       "  </tbody>\n",
       "</table>\n",
       "</div>"
      ],
      "text/plain": [
       "     release_date                    title  production_budget  domestic_gross  \\\n",
       "5790   1972-06-30              Deep Throat            25000.0      45000000.0   \n",
       "5666   1980-03-21                  Mad Max           200000.0       8750000.0   \n",
       "5541   2009-09-25      Paranormal Activity           450000.0     107918810.0   \n",
       "5724   2015-07-10              The Gallows           100000.0      22764410.0   \n",
       "5456   1999-07-14  The Blair Witch Project           600000.0     140539099.0   \n",
       "\n",
       "      worldwide_gross   ROI_domestic  ROI_worldwide  release_year  \\\n",
       "5790       45000000.0  179900.000000  179900.000000          1972   \n",
       "5666       99750000.0    4275.000000   49775.000000          1980   \n",
       "5541      194183034.0   23881.957778   43051.785333          2009   \n",
       "5724       41656474.0   22664.410000   41556.474000          2015   \n",
       "5456      248300000.0   23323.183167   41283.333333          1999   \n",
       "\n",
       "     imdb_movie_id                   genres  imdb_average_rating  \\\n",
       "5790           NaN                      NaN                  NaN   \n",
       "5666           NaN                      NaN                  NaN   \n",
       "5541           NaN                      NaN                  NaN   \n",
       "5724     tt2309260  Horror,Mystery,Thriller                  4.2   \n",
       "5456           NaN                      NaN                  NaN   \n",
       "\n",
       "      tmdb_average_rating  \n",
       "5790                  NaN  \n",
       "5666                  NaN  \n",
       "5541                  NaN  \n",
       "5724                  4.8  \n",
       "5456                  NaN  "
      ]
     },
     "execution_count": 276,
     "metadata": {},
     "output_type": "execute_result"
    }
   ],
   "source": [
    "df_merged_all.sort_values(by=\"ROI_worldwide\", ascending=False).head()"
   ]
  },
  {
   "cell_type": "markdown",
   "id": "50da59bb-7800-45d8-bb93-c0772e51ade1",
   "metadata": {},
   "source": [
    "A peek at the IMDB database shows that it only contains movies from 2010 onwards. Therefore, to fill out the NaNs for the genre and rating in the merged database, we can sweep this dataset again for movies that were released 2010 onwards whose genre is unidentified. We can then swift through the IMDB dataset to find movies whose titles are not a perfect match (thus not identified by the merge command) but a very close match. Among movies whose titles are a close match, we will select the ones with release dates that are very similar (threshold: 2 years apart) to the original movie under consideration. This lets us fill some of the NaN entries for genre and rating. "
   ]
  },
  {
   "cell_type": "code",
   "execution_count": 277,
   "id": "3958137c-65db-4887-9b7d-a200ade8c9ce",
   "metadata": {},
   "outputs": [
    {
     "name": "stdout",
     "output_type": "stream",
     "text": [
      "release_date           0.000000\n",
      "title                  0.000000\n",
      "production_budget      0.000000\n",
      "domestic_gross         0.000000\n",
      "worldwide_gross        0.000000\n",
      "ROI_domestic           0.000000\n",
      "ROI_worldwide          0.000000\n",
      "release_year           0.000000\n",
      "imdb_movie_id          0.773455\n",
      "genres                 0.773455\n",
      "imdb_average_rating    0.773455\n",
      "tmdb_average_rating    1.000000\n",
      "dtype: float64\n"
     ]
    }
   ],
   "source": [
    "df_nan_2010_onwards = df_merged_all[(df_merged_all['genres'].isna()) & (df_merged_all['release_year']>=2010)]\n",
    "idx=[]\n",
    "idx_df_nan=[]\n",
    "\n",
    "# only reset index once (to avoid errors when cell is run multiple times)\n",
    "if 'reset_bool' not in globals():\n",
    "    df_imdb_mvr.reset_index(inplace=True)\n",
    "    reset_bool = True\n",
    "\n",
    "for i in range(0,len(df_nan_2010_onwards.index)):\n",
    "        if (df_nan_2010_onwards[\"title\"].iloc[i] in df_imdb_mvr[\"title\"].to_list()):\n",
    "            idx_df_nan.append(i)\n",
    "            idx.append(df_imdb_mvr[\"title\"].index[df_imdb_mvr[\"title\"].str.contains(df_nan_2010_onwards[\"title\"].iloc[i])].to_list())\n",
    "            \n",
    "            idx_closest_year = (df_imdb_mvr[\"release_year\"].iloc[idx[-1]]-df_nan_2010_onwards[\"release_year\"].iloc[i]).idxmin()\n",
    "            if numpy.abs((df_imdb_mvr[\"release_year\"].iloc[idx[-1]]-df_nan_2010_onwards[\"release_year\"].iloc[i]).min())<=2:                \n",
    "                columns_to_fill = [\"imdb_movie_id\", \"genres\", \"imdb_average_rating\"]\n",
    "                for col in columns_to_fill:\n",
    "                    # print(df_nan_2010_onwards[[\"title\",\"release_year\"]].iloc[i])\n",
    "                    # print(df_imdb_mvr[[\"title\",\"release_year\"]].iloc[idx_closest_year])\n",
    "                    df_nan_2010_onwards.iloc[i,df_nan_2010_onwards.columns.get_loc(col)] = df_imdb_mvr.iloc[idx_closest_year,df_imdb_mvr.columns.get_loc(col)] \n",
    "                                            \n",
    "print(df_nan_2010_onwards.isna().sum()/len(df_nan_2010_onwards.index))"
   ]
  },
  {
   "cell_type": "markdown",
   "id": "d5a34f95-4309-4b39-8726-93cbd511c777",
   "metadata": {},
   "source": [
    "We recovered ~23% of the missing data. "
   ]
  },
  {
   "cell_type": "code",
   "execution_count": 278,
   "id": "c344b1f4-5a9d-4ee6-abd6-9c10078327f6",
   "metadata": {},
   "outputs": [
    {
     "name": "stderr",
     "output_type": "stream",
     "text": [
      "C:\\Users\\setar\\AppData\\Local\\Temp\\ipykernel_18732\\3788012409.py:2: SettingWithCopyWarning: \n",
      "A value is trying to be set on a copy of a slice from a DataFrame\n",
      "\n",
      "See the caveats in the documentation: https://pandas.pydata.org/pandas-docs/stable/user_guide/indexing.html#returning-a-view-versus-a-copy\n",
      "  df_nan_2010_onwards.rename(columns={\"genres\":\"filled_genres\", \"imdb_movie_id\":\"filled_imdb_movie_id\", \"imdb_average_rating\":\"filled_imdb_average_rating\"}, inplace=True)\n"
     ]
    },
    {
     "data": {
      "text/plain": [
       "release_date              0\n",
       "title                     0\n",
       "production_budget         0\n",
       "domestic_gross            0\n",
       "worldwide_gross           0\n",
       "ROI_domestic              0\n",
       "ROI_worldwide             0\n",
       "release_year              0\n",
       "imdb_movie_id          4138\n",
       "genres                 3619\n",
       "imdb_average_rating    4138\n",
       "tmdb_average_rating    4117\n",
       "dtype: int64"
      ]
     },
     "execution_count": 278,
     "metadata": {},
     "output_type": "execute_result"
    }
   ],
   "source": [
    "# change column names so we can join without conflicts\n",
    "df_nan_2010_onwards.rename(columns={\"genres\":\"filled_genres\", \"imdb_movie_id\":\"filled_imdb_movie_id\", \"imdb_average_rating\":\"filled_imdb_average_rating\"}, inplace=True)\n",
    "# merge the dataframe where NaNs are filled with the original dataframe\n",
    "df_new = pd.merge(df_merged_all, df_nan_2010_onwards[[\"title\",\"filled_genres\", \"filled_imdb_movie_id\", \"filled_imdb_average_rating\"]], on=\"title\", how = \"left\")\n",
    "\n",
    "na_cols_to_fill = [\"imdb_movie_id\",\"genres\",\"imdb_average_rating\"]\n",
    "cols_to_fill_with = [\"filled_imdb_movie_id\",\"filled_genres\",\"filled_imdb_average_rating\"]\n",
    "\n",
    "# fill out the NaNs in the original dataframe\n",
    "for na_col, col_to_fill in zip(na_cols_to_fill, cols_to_fill_with):\n",
    "    df_new[na_col] = df_new[na_col].fillna(df_new[col_to_fill])\n",
    "\n",
    "# drop the redundant columns\n",
    "df_new.drop(columns = cols_to_fill_with, inplace=True)\n",
    "df_new.isna().sum()"
   ]
  },
  {
   "cell_type": "markdown",
   "id": "d2ff68f3-88af-4c29-b956-5dfc150ea085",
   "metadata": {},
   "source": [
    "I repeated the same process with the remaining entries that have missing genres using the dataset from TMDB but no close matches were found. Since the movie industry has changed over the years and to remain relevant, it may be more useful to look at the trends from recent years, we choose to strip the main dataset containing ROI information (source: The Numbers) such that it only contains movies from 2010 onwards. "
   ]
  },
  {
   "cell_type": "code",
   "execution_count": 279,
   "id": "bf517a6c-b193-4e7e-af5f-0a83c9b139e8",
   "metadata": {},
   "outputs": [
    {
     "name": "stdout",
     "output_type": "stream",
     "text": [
      "<class 'pandas.core.frame.DataFrame'>\n",
      "Index: 2289 entries, 1 to 5824\n",
      "Data columns (total 12 columns):\n",
      " #   Column               Non-Null Count  Dtype         \n",
      "---  ------               --------------  -----         \n",
      " 0   release_date         2289 non-null   datetime64[ns]\n",
      " 1   title                2289 non-null   object        \n",
      " 2   production_budget    2289 non-null   float64       \n",
      " 3   domestic_gross       2289 non-null   float64       \n",
      " 4   worldwide_gross      2289 non-null   float64       \n",
      " 5   ROI_domestic         2289 non-null   float64       \n",
      " 6   ROI_worldwide        2289 non-null   float64       \n",
      " 7   release_year         2289 non-null   int32         \n",
      " 8   imdb_movie_id        1688 non-null   object        \n",
      " 9   genres               1951 non-null   object        \n",
      " 10  imdb_average_rating  1688 non-null   float64       \n",
      " 11  tmdb_average_rating  1453 non-null   float64       \n",
      "dtypes: datetime64[ns](1), float64(7), int32(1), object(3)\n",
      "memory usage: 223.5+ KB\n"
     ]
    }
   ],
   "source": [
    "df_new[df_new[\"release_year\"]>=2010].info()"
   ]
  },
  {
   "cell_type": "code",
   "execution_count": 280,
   "id": "82d6d59f-abc8-4417-9976-440935f02d93",
   "metadata": {},
   "outputs": [],
   "source": [
    "df_merged_2010_onwards = df_new[df_new[\"release_year\"]>=2010].copy()"
   ]
  },
  {
   "cell_type": "code",
   "execution_count": 281,
   "id": "5ca8f49c-5cca-4b42-87d1-ffdc8b6644f6",
   "metadata": {},
   "outputs": [
    {
     "name": "stdout",
     "output_type": "stream",
     "text": [
      "<class 'pandas.core.frame.DataFrame'>\n",
      "Index: 2289 entries, 1 to 5824\n",
      "Data columns (total 12 columns):\n",
      " #   Column               Non-Null Count  Dtype         \n",
      "---  ------               --------------  -----         \n",
      " 0   release_date         2289 non-null   datetime64[ns]\n",
      " 1   title                2289 non-null   object        \n",
      " 2   production_budget    2289 non-null   float64       \n",
      " 3   domestic_gross       2289 non-null   float64       \n",
      " 4   worldwide_gross      2289 non-null   float64       \n",
      " 5   ROI_domestic         2289 non-null   float64       \n",
      " 6   ROI_worldwide        2289 non-null   float64       \n",
      " 7   release_year         2289 non-null   int32         \n",
      " 8   imdb_movie_id        1688 non-null   object        \n",
      " 9   genres               1951 non-null   object        \n",
      " 10  imdb_average_rating  1688 non-null   float64       \n",
      " 11  tmdb_average_rating  1453 non-null   float64       \n",
      "dtypes: datetime64[ns](1), float64(7), int32(1), object(3)\n",
      "memory usage: 223.5+ KB\n",
      "None\n"
     ]
    },
    {
     "data": {
      "text/plain": [
       "release_date             0\n",
       "title                    0\n",
       "production_budget        0\n",
       "domestic_gross           0\n",
       "worldwide_gross          0\n",
       "ROI_domestic             0\n",
       "ROI_worldwide            0\n",
       "release_year             0\n",
       "imdb_movie_id          601\n",
       "genres                 338\n",
       "imdb_average_rating    601\n",
       "tmdb_average_rating    836\n",
       "dtype: int64"
      ]
     },
     "execution_count": 281,
     "metadata": {},
     "output_type": "execute_result"
    }
   ],
   "source": [
    "print(df_merged_2010_onwards.info())\n",
    "df_merged_2010_onwards.isna().sum()"
   ]
  },
  {
   "cell_type": "markdown",
   "id": "80221311-8aff-4a72-9275-629de36c9e99",
   "metadata": {},
   "source": [
    "Let's combine the rating from IMDB and TMDB into one column:"
   ]
  },
  {
   "cell_type": "code",
   "execution_count": 282,
   "id": "e3ef8ccd-6c51-482e-9a6c-f60c9fa17136",
   "metadata": {},
   "outputs": [
    {
     "data": {
      "text/plain": [
       "release_date           0\n",
       "title                  0\n",
       "production_budget      0\n",
       "domestic_gross         0\n",
       "worldwide_gross        0\n",
       "ROI_domestic           0\n",
       "ROI_worldwide          0\n",
       "release_year           0\n",
       "imdb_movie_id        601\n",
       "genres               338\n",
       "average_rating       338\n",
       "dtype: int64"
      ]
     },
     "execution_count": 282,
     "metadata": {},
     "output_type": "execute_result"
    }
   ],
   "source": [
    "# fill NaNs\n",
    "df_merged_2010_onwards.loc[:,\"imdb_average_rating\"] = df_merged_2010_onwards[\"imdb_average_rating\"].fillna(df_merged_2010_onwards[\"tmdb_average_rating\"]).copy()\n",
    "# drop redundant column\n",
    "df_merged_2010_onwards.drop(columns = \"tmdb_average_rating\", inplace=True) \n",
    "df_merged_2010_onwards.rename(columns = {\"imdb_average_rating\": \"average_rating\"}, inplace=True)\n",
    "df_merged_2010_onwards.isna().sum()"
   ]
  },
  {
   "cell_type": "code",
   "execution_count": 283,
   "id": "bc5cb6ea-8523-445c-af49-f5fca30eda9e",
   "metadata": {},
   "outputs": [
    {
     "name": "stdout",
     "output_type": "stream",
     "text": [
      "There is 338 missing data points.\n"
     ]
    }
   ],
   "source": [
    "df_missing_genres = df_merged_2010_onwards[df_merged_2010_onwards[\"genres\"].isna()] # get a slice of the dataframe that has missing genres\n",
    "df_missing_genres = df_missing_genres.copy() # make a copy of the slice\n",
    "print(f\"There is {len(df_missing_genres.index)} missing data points.\") "
   ]
  },
  {
   "cell_type": "markdown",
   "id": "661c2c8c-2e26-4f3a-b617-79da5e2c3daa",
   "metadata": {},
   "source": [
    "We still have some missing information on genres and ratings. To recover this missing information, we use a Python library called imdb. This library will give us the ability to get information on a given movie using its title. The operation is time-consuming, which is why we used all other means to recover the missing information and we will use this as the last resort. "
   ]
  },
  {
   "cell_type": "code",
   "execution_count": 284,
   "id": "99462820-1d71-4292-a1b9-6f418c84573a",
   "metadata": {},
   "outputs": [],
   "source": [
    "from typing import Tuple\n",
    "def get_movie_info(mv_title: str) -> Tuple[str, str, float]:\n",
    "    \"\"\" Given the title of a movie, this function returns information on the movie id, its genre and rating.\n",
    "    Args:\n",
    "        mv_title: a string containing the movie title\n",
    "    Returns:\n",
    "        id: a string containing the IMDB movie id\n",
    "        genres: a string containing all genres listed for the movie on IMDB\n",
    "        rating: float variable indicating the average movie rating on IMDB\n",
    "    \"\"\"\n",
    "    ia = imdb.IMDb()\n",
    "    search_movie = ia.search_movie(mv_title)\n",
    "    movie = ia.get_movie(search_movie[0].getID())\n",
    "\n",
    "    if (\"genres\" in movie.keys()) and (\"rating\" in movie.keys()):\n",
    "        id = 'tt'+search_movie[0].getID()\n",
    "        genres =  \",\".join(movie['genres'])\n",
    "        rating = movie['rating']\n",
    "    else:\n",
    "        id = 'NaN'\n",
    "        genres = 'NaN'\n",
    "        rating = float('NaN')\n",
    "    return id, genres, rating\n",
    "\n",
    "# a,b,c = get_genre_from_imdb(\"Star Wars\")\n",
    "\n",
    "# wrapper function to be used on the dataframe\n",
    "def apply_get_genre(row):\n",
    "    row[\"imdb_movie_id\"],row[\"genres\"], row[\"average_rating\"] = get_movie_info(row[\"title\"])\n",
    "    return row"
   ]
  },
  {
   "cell_type": "code",
   "execution_count": 285,
   "id": "10092075-10d0-45c8-8d9f-43a65f337619",
   "metadata": {},
   "outputs": [
    {
     "name": "stdout",
     "output_type": "stream",
     "text": [
      "CPU times: total: 859 ms\n",
      "Wall time: 4.88 s\n"
     ]
    },
    {
     "data": {
      "text/plain": [
       "('tt1375666', 'Action,Adventure,Sci-Fi,Thriller', 8.8)"
      ]
     },
     "execution_count": 285,
     "metadata": {},
     "output_type": "execute_result"
    }
   ],
   "source": [
    "%%time\n",
    "ia = imdb.IMDb()\n",
    "search_movie = ia.search_movie(\"Inception\")\n",
    "movie = ia.get_movie(search_movie[0].getID())\n",
    "if (\"genres\" in movie.keys()) and (\"rating\" in movie.keys()):\n",
    "        id = 'tt'+search_movie[0].getID()\n",
    "        genres =  \",\".join(movie['genres'])\n",
    "        rating = movie['rating']\n",
    "id, genres, rating"
   ]
  },
  {
   "cell_type": "markdown",
   "id": "3b6f5341-0ed7-4147-9e29-59fffef458ca",
   "metadata": {},
   "source": [
    "A sample test case took roughly 5 sseconds to run. 338 entries may take about half an hour to run if we assume that the runtime varies linearly with the number of entries. As mentioned, this operation is not fast and could benefit from some optimization. Nevertheless, we proceed by using the function to obtain the final dataframe we will work with. "
   ]
  },
  {
   "cell_type": "code",
   "execution_count": 286,
   "id": "e6bea1ca-6804-432f-966b-8c37590abc7e",
   "metadata": {},
   "outputs": [
    {
     "name": "stdout",
     "output_type": "stream",
     "text": [
      "CPU times: total: 3min 11s\n",
      "Wall time: 32min 38s\n"
     ]
    }
   ],
   "source": [
    "%%time\n",
    "df_filled_genres = df_missing_genres.apply(func = apply_get_genre, axis = 1) # apply the wrapper function to the dataframe with missing data "
   ]
  },
  {
   "cell_type": "code",
   "execution_count": 287,
   "id": "18701e71-212d-4f9e-9056-4f2c42358f1e",
   "metadata": {},
   "outputs": [],
   "source": [
    "df_merged_2010_onwards.drop(index = df_filled_genres.index, axis=1, inplace=True) # drop the entries corresponding to the slice (entries with missing genres)\n",
    "df_final = pd.concat([df_merged_2010_onwards, df_filled_genres]) # concatenate the two dataframes  to recover missing genres\n",
    "df_final['genres'] = df_final['genres'].astype(str)"
   ]
  },
  {
   "cell_type": "code",
   "execution_count": 288,
   "id": "195c0860-25bf-41c5-8397-daca7e37b5ba",
   "metadata": {},
   "outputs": [
    {
     "name": "stdout",
     "output_type": "stream",
     "text": [
      "release_date           0\n",
      "title                  0\n",
      "production_budget      0\n",
      "domestic_gross         0\n",
      "worldwide_gross        0\n",
      "ROI_domestic           0\n",
      "ROI_worldwide          0\n",
      "release_year           0\n",
      "imdb_movie_id        263\n",
      "genres                 0\n",
      "average_rating        15\n",
      "dtype: int64\n"
     ]
    },
    {
     "data": {
      "text/html": [
       "<div>\n",
       "<style scoped>\n",
       "    .dataframe tbody tr th:only-of-type {\n",
       "        vertical-align: middle;\n",
       "    }\n",
       "\n",
       "    .dataframe tbody tr th {\n",
       "        vertical-align: top;\n",
       "    }\n",
       "\n",
       "    .dataframe thead th {\n",
       "        text-align: right;\n",
       "    }\n",
       "</style>\n",
       "<table border=\"1\" class=\"dataframe\">\n",
       "  <thead>\n",
       "    <tr style=\"text-align: right;\">\n",
       "      <th></th>\n",
       "      <th>release_date</th>\n",
       "      <th>title</th>\n",
       "      <th>production_budget</th>\n",
       "      <th>domestic_gross</th>\n",
       "      <th>worldwide_gross</th>\n",
       "      <th>ROI_domestic</th>\n",
       "      <th>ROI_worldwide</th>\n",
       "      <th>release_year</th>\n",
       "      <th>imdb_movie_id</th>\n",
       "      <th>genres</th>\n",
       "      <th>average_rating</th>\n",
       "    </tr>\n",
       "  </thead>\n",
       "  <tbody>\n",
       "    <tr>\n",
       "      <th>1</th>\n",
       "      <td>2011-05-20</td>\n",
       "      <td>Pirates Of The Caribbean: On Stranger Tides</td>\n",
       "      <td>410600000.0</td>\n",
       "      <td>241063875.0</td>\n",
       "      <td>1.045664e+09</td>\n",
       "      <td>-41.289850</td>\n",
       "      <td>154.667286</td>\n",
       "      <td>2011</td>\n",
       "      <td>tt1298650</td>\n",
       "      <td>Action,Adventure,Fantasy</td>\n",
       "      <td>6.6</td>\n",
       "    </tr>\n",
       "    <tr>\n",
       "      <th>2</th>\n",
       "      <td>2019-06-07</td>\n",
       "      <td>Dark Phoenix</td>\n",
       "      <td>350000000.0</td>\n",
       "      <td>42762350.0</td>\n",
       "      <td>1.497624e+08</td>\n",
       "      <td>-87.782186</td>\n",
       "      <td>-57.210757</td>\n",
       "      <td>2019</td>\n",
       "      <td>tt6565702</td>\n",
       "      <td>Action,Adventure,Sci-Fi</td>\n",
       "      <td>6.0</td>\n",
       "    </tr>\n",
       "    <tr>\n",
       "      <th>3</th>\n",
       "      <td>2015-05-01</td>\n",
       "      <td>Avengers: Age Of Ultron</td>\n",
       "      <td>330600000.0</td>\n",
       "      <td>459005868.0</td>\n",
       "      <td>1.403014e+09</td>\n",
       "      <td>38.840250</td>\n",
       "      <td>324.384139</td>\n",
       "      <td>2015</td>\n",
       "      <td>tt2395427</td>\n",
       "      <td>Action,Adventure,Sci-Fi</td>\n",
       "      <td>7.3</td>\n",
       "    </tr>\n",
       "    <tr>\n",
       "      <th>6</th>\n",
       "      <td>2018-04-27</td>\n",
       "      <td>Avengers: Infinity War</td>\n",
       "      <td>300000000.0</td>\n",
       "      <td>678815482.0</td>\n",
       "      <td>2.048134e+09</td>\n",
       "      <td>126.271827</td>\n",
       "      <td>582.711400</td>\n",
       "      <td>2018</td>\n",
       "      <td>tt4154756</td>\n",
       "      <td>Action,Adventure,Sci-Fi</td>\n",
       "      <td>8.5</td>\n",
       "    </tr>\n",
       "    <tr>\n",
       "      <th>8</th>\n",
       "      <td>2017-11-17</td>\n",
       "      <td>Justice League</td>\n",
       "      <td>300000000.0</td>\n",
       "      <td>229024295.0</td>\n",
       "      <td>6.559452e+08</td>\n",
       "      <td>-23.658568</td>\n",
       "      <td>118.648403</td>\n",
       "      <td>2017</td>\n",
       "      <td>tt0974015</td>\n",
       "      <td>Action,Adventure,Fantasy</td>\n",
       "      <td>6.5</td>\n",
       "    </tr>\n",
       "  </tbody>\n",
       "</table>\n",
       "</div>"
      ],
      "text/plain": [
       "  release_date                                        title  \\\n",
       "1   2011-05-20  Pirates Of The Caribbean: On Stranger Tides   \n",
       "2   2019-06-07                                 Dark Phoenix   \n",
       "3   2015-05-01                      Avengers: Age Of Ultron   \n",
       "6   2018-04-27                       Avengers: Infinity War   \n",
       "8   2017-11-17                               Justice League   \n",
       "\n",
       "   production_budget  domestic_gross  worldwide_gross  ROI_domestic  \\\n",
       "1        410600000.0     241063875.0     1.045664e+09    -41.289850   \n",
       "2        350000000.0      42762350.0     1.497624e+08    -87.782186   \n",
       "3        330600000.0     459005868.0     1.403014e+09     38.840250   \n",
       "6        300000000.0     678815482.0     2.048134e+09    126.271827   \n",
       "8        300000000.0     229024295.0     6.559452e+08    -23.658568   \n",
       "\n",
       "   ROI_worldwide  release_year imdb_movie_id                    genres  \\\n",
       "1     154.667286          2011     tt1298650  Action,Adventure,Fantasy   \n",
       "2     -57.210757          2019     tt6565702   Action,Adventure,Sci-Fi   \n",
       "3     324.384139          2015     tt2395427   Action,Adventure,Sci-Fi   \n",
       "6     582.711400          2018     tt4154756   Action,Adventure,Sci-Fi   \n",
       "8     118.648403          2017     tt0974015  Action,Adventure,Fantasy   \n",
       "\n",
       "   average_rating  \n",
       "1             6.6  \n",
       "2             6.0  \n",
       "3             7.3  \n",
       "6             8.5  \n",
       "8             6.5  "
      ]
     },
     "execution_count": 288,
     "metadata": {},
     "output_type": "execute_result"
    }
   ],
   "source": [
    "print(df_final.isna().sum()) # check that all genres are recovered\n",
    "df_final.head()"
   ]
  },
  {
   "cell_type": "markdown",
   "id": "7a0ca853-3256-4840-9280-cac743b84d70",
   "metadata": {},
   "source": [
    "Let's drop the remaining entries where average rating is NaN. "
   ]
  },
  {
   "cell_type": "code",
   "execution_count": 291,
   "id": "6cdfee03-9795-4138-98fd-1bbd505d41eb",
   "metadata": {},
   "outputs": [],
   "source": [
    "df_final.dropna(subset=\"average_rating\", inplace=True)"
   ]
  },
  {
   "cell_type": "markdown",
   "id": "17cb9e67-8e9b-495e-8a50-b49b37e3c5f5",
   "metadata": {},
   "source": [
    "We have managed to recover most missing genres after several steps. Due to the previous step being extremely time-consuming, we will write this data to a csv file for later reuse and to avoid running the prior computationally demanding step again. "
   ]
  },
  {
   "cell_type": "code",
   "execution_count": 292,
   "id": "7c5cf0ca-95c8-4388-bf52-fffd1a59304c",
   "metadata": {},
   "outputs": [],
   "source": [
    "df_final.to_csv('./unzipped_data/processed/movie_info.csv')"
   ]
  },
  {
   "cell_type": "markdown",
   "id": "0a9e06a6-4668-4559-ad37-218e075dbf11",
   "metadata": {},
   "source": [
    "I manually copied this file to another location for reading it below since I wanted to make sure I have an intact version of the data. "
   ]
  },
  {
   "cell_type": "code",
   "execution_count": 463,
   "id": "95ae27b4-1e65-4f5b-ac2e-c4f8a9f17b5a",
   "metadata": {},
   "outputs": [],
   "source": [
    "df_final = pd.read_csv('./unzipped_data/movie_info.csv')"
   ]
  },
  {
   "cell_type": "markdown",
   "id": "bc8dbf96-4b9d-471c-8c63-ca6e1c2833ce",
   "metadata": {},
   "source": [
    "## 4. Data Analysis"
   ]
  },
  {
   "cell_type": "code",
   "execution_count": 464,
   "id": "0e97a560-a284-477d-bf04-1b56d3f6238b",
   "metadata": {},
   "outputs": [],
   "source": [
    "df_final_zero_gross = df_final[(df_final[\"domestic_gross\"]==0) | (df_final[\"worldwide_gross\"]==0)].copy()\n",
    "df_final.drop(labels = df_final_zero_gross.index, inplace=True)"
   ]
  },
  {
   "cell_type": "markdown",
   "id": "1e0de58e-45b7-4e16-ad73-ed3c89532b5f",
   "metadata": {},
   "source": [
    "### 4.1. Effect of Genre"
   ]
  },
  {
   "cell_type": "markdown",
   "id": "c3bd7c29-203f-4103-b815-0bd2f500905f",
   "metadata": {},
   "source": [
    "To study the effect of movie genre on ROI, we will need to first identify the unique genres in the data frame then explode the data frame such that for movies listed with several genres, each genre gets its own row. "
   ]
  },
  {
   "cell_type": "code",
   "execution_count": 465,
   "id": "c48b31ee-602f-4c29-b0c8-5b781ab3d1a5",
   "metadata": {},
   "outputs": [],
   "source": [
    "df_final[\"genres\"] = df_final[\"genres\"].str.split(',')"
   ]
  },
  {
   "cell_type": "code",
   "execution_count": 466,
   "id": "60cdb5d1-6331-4da5-bdff-4fc6aaa691d2",
   "metadata": {},
   "outputs": [
    {
     "data": {
      "text/html": [
       "<div>\n",
       "<style scoped>\n",
       "    .dataframe tbody tr th:only-of-type {\n",
       "        vertical-align: middle;\n",
       "    }\n",
       "\n",
       "    .dataframe tbody tr th {\n",
       "        vertical-align: top;\n",
       "    }\n",
       "\n",
       "    .dataframe thead th {\n",
       "        text-align: right;\n",
       "    }\n",
       "</style>\n",
       "<table border=\"1\" class=\"dataframe\">\n",
       "  <thead>\n",
       "    <tr style=\"text-align: right;\">\n",
       "      <th></th>\n",
       "      <th>Unnamed: 0</th>\n",
       "      <th>release_date</th>\n",
       "      <th>title</th>\n",
       "      <th>production_budget</th>\n",
       "      <th>domestic_gross</th>\n",
       "      <th>worldwide_gross</th>\n",
       "      <th>ROI_domestic</th>\n",
       "      <th>ROI_worldwide</th>\n",
       "      <th>release_year</th>\n",
       "      <th>imdb_movie_id</th>\n",
       "      <th>genres</th>\n",
       "      <th>average_rating</th>\n",
       "    </tr>\n",
       "  </thead>\n",
       "  <tbody>\n",
       "    <tr>\n",
       "      <th>0</th>\n",
       "      <td>1</td>\n",
       "      <td>2011-05-20</td>\n",
       "      <td>Pirates Of The Caribbean: On Stranger Tides</td>\n",
       "      <td>410600000.0</td>\n",
       "      <td>241063875.0</td>\n",
       "      <td>1.045664e+09</td>\n",
       "      <td>-41.289850</td>\n",
       "      <td>154.667286</td>\n",
       "      <td>2011</td>\n",
       "      <td>tt1298650</td>\n",
       "      <td>[Action, Adventure, Fantasy]</td>\n",
       "      <td>6.6</td>\n",
       "    </tr>\n",
       "    <tr>\n",
       "      <th>1</th>\n",
       "      <td>2</td>\n",
       "      <td>2019-06-07</td>\n",
       "      <td>Dark Phoenix</td>\n",
       "      <td>350000000.0</td>\n",
       "      <td>42762350.0</td>\n",
       "      <td>1.497624e+08</td>\n",
       "      <td>-87.782186</td>\n",
       "      <td>-57.210757</td>\n",
       "      <td>2019</td>\n",
       "      <td>tt6565702</td>\n",
       "      <td>[Action, Adventure, Sci-Fi]</td>\n",
       "      <td>6.0</td>\n",
       "    </tr>\n",
       "    <tr>\n",
       "      <th>2</th>\n",
       "      <td>3</td>\n",
       "      <td>2015-05-01</td>\n",
       "      <td>Avengers: Age Of Ultron</td>\n",
       "      <td>330600000.0</td>\n",
       "      <td>459005868.0</td>\n",
       "      <td>1.403014e+09</td>\n",
       "      <td>38.840250</td>\n",
       "      <td>324.384139</td>\n",
       "      <td>2015</td>\n",
       "      <td>tt2395427</td>\n",
       "      <td>[Action, Adventure, Sci-Fi]</td>\n",
       "      <td>7.3</td>\n",
       "    </tr>\n",
       "    <tr>\n",
       "      <th>3</th>\n",
       "      <td>6</td>\n",
       "      <td>2018-04-27</td>\n",
       "      <td>Avengers: Infinity War</td>\n",
       "      <td>300000000.0</td>\n",
       "      <td>678815482.0</td>\n",
       "      <td>2.048134e+09</td>\n",
       "      <td>126.271827</td>\n",
       "      <td>582.711400</td>\n",
       "      <td>2018</td>\n",
       "      <td>tt4154756</td>\n",
       "      <td>[Action, Adventure, Sci-Fi]</td>\n",
       "      <td>8.5</td>\n",
       "    </tr>\n",
       "    <tr>\n",
       "      <th>4</th>\n",
       "      <td>8</td>\n",
       "      <td>2017-11-17</td>\n",
       "      <td>Justice League</td>\n",
       "      <td>300000000.0</td>\n",
       "      <td>229024295.0</td>\n",
       "      <td>6.559452e+08</td>\n",
       "      <td>-23.658568</td>\n",
       "      <td>118.648403</td>\n",
       "      <td>2017</td>\n",
       "      <td>tt0974015</td>\n",
       "      <td>[Action, Adventure, Fantasy]</td>\n",
       "      <td>6.5</td>\n",
       "    </tr>\n",
       "  </tbody>\n",
       "</table>\n",
       "</div>"
      ],
      "text/plain": [
       "   Unnamed: 0 release_date                                        title  \\\n",
       "0           1   2011-05-20  Pirates Of The Caribbean: On Stranger Tides   \n",
       "1           2   2019-06-07                                 Dark Phoenix   \n",
       "2           3   2015-05-01                      Avengers: Age Of Ultron   \n",
       "3           6   2018-04-27                       Avengers: Infinity War   \n",
       "4           8   2017-11-17                               Justice League   \n",
       "\n",
       "   production_budget  domestic_gross  worldwide_gross  ROI_domestic  \\\n",
       "0        410600000.0     241063875.0     1.045664e+09    -41.289850   \n",
       "1        350000000.0      42762350.0     1.497624e+08    -87.782186   \n",
       "2        330600000.0     459005868.0     1.403014e+09     38.840250   \n",
       "3        300000000.0     678815482.0     2.048134e+09    126.271827   \n",
       "4        300000000.0     229024295.0     6.559452e+08    -23.658568   \n",
       "\n",
       "   ROI_worldwide  release_year imdb_movie_id                        genres  \\\n",
       "0     154.667286          2011     tt1298650  [Action, Adventure, Fantasy]   \n",
       "1     -57.210757          2019     tt6565702   [Action, Adventure, Sci-Fi]   \n",
       "2     324.384139          2015     tt2395427   [Action, Adventure, Sci-Fi]   \n",
       "3     582.711400          2018     tt4154756   [Action, Adventure, Sci-Fi]   \n",
       "4     118.648403          2017     tt0974015  [Action, Adventure, Fantasy]   \n",
       "\n",
       "   average_rating  \n",
       "0             6.6  \n",
       "1             6.0  \n",
       "2             7.3  \n",
       "3             8.5  \n",
       "4             6.5  "
      ]
     },
     "execution_count": 466,
     "metadata": {},
     "output_type": "execute_result"
    }
   ],
   "source": [
    "df_final.head()"
   ]
  },
  {
   "cell_type": "code",
   "execution_count": 467,
   "id": "9beb430f-350f-4d31-9bfe-23001f76712b",
   "metadata": {},
   "outputs": [],
   "source": [
    "df_exploded = df_final.explode(\"genres\") # explode the data frame"
   ]
  },
  {
   "cell_type": "code",
   "execution_count": 468,
   "id": "e187c5e2-438d-4b31-a4be-86fee9cc75fa",
   "metadata": {},
   "outputs": [
    {
     "name": "stdout",
     "output_type": "stream",
     "text": [
      "There are  24 unique genres.\n"
     ]
    }
   ],
   "source": [
    "print(\"There are \", df_exploded[\"genres\"].nunique(), \"unique genres.\")"
   ]
  },
  {
   "cell_type": "code",
   "execution_count": 469,
   "id": "1f884a5c-f55c-41f2-8765-99927ae9a952",
   "metadata": {},
   "outputs": [
    {
     "data": {
      "text/plain": [
       "array(['Action', 'Adventure', 'Fantasy', 'Sci-Fi', 'Thriller', 'Western',\n",
       "       'Animation', 'Comedy', 'Family', 'Crime', 'Drama', 'Horror',\n",
       "       'Romance', 'Mystery', 'Musical', 'History', 'Documentary',\n",
       "       'Biography', 'Science Fiction', 'War', 'Sport', 'Music', nan,\n",
       "       'Short', 'Talk-Show'], dtype=object)"
      ]
     },
     "execution_count": 469,
     "metadata": {},
     "output_type": "execute_result"
    }
   ],
   "source": [
    "df_exploded[\"genres\"].unique()"
   ]
  },
  {
   "cell_type": "code",
   "execution_count": 470,
   "id": "423a2c49-d28b-4bc6-869a-77de4c36af81",
   "metadata": {},
   "outputs": [],
   "source": [
    "df_genre_group = df_exploded.groupby(\"genres\")\n",
    "# df_genre_group.first()"
   ]
  },
  {
   "cell_type": "code",
   "execution_count": 471,
   "id": "7983d706-4c53-409d-9dcc-96978cd3a5be",
   "metadata": {},
   "outputs": [
    {
     "data": {
      "image/png": "[encoded data removed]",
      "text/plain": [
       "<Figure size 1200x600 with 2 Axes>"
      ]
     },
     "metadata": {},
     "output_type": "display_data"
    }
   ],
   "source": [
    "fig, ax=plt.subplots(1,2, figsize=(12,6))\n",
    "df_genre_group[[\"ROI_domestic\"]].mean().sort_values(by=\"ROI_domestic\", ascending=False).head(10).plot(ax=ax[0],kind=\"bar\", xlabel=\"Genre\", rot=45);\n",
    "ax[0].legend([\"ROI - Domestic\"]);\n",
    "\n",
    "df_genre_group[[\"ROI_worldwide\"]].mean().sort_values(by=\"ROI_worldwide\", ascending=False).head(10).plot(ax=ax[1],kind=\"bar\", xlabel=\"Genre\", rot=45);\n",
    "ax[1].legend([\"ROI - Worldwide\"]);"
   ]
  },
  {
   "cell_type": "markdown",
   "id": "05b984f3-f89a-40b4-81ad-d31a46cac826",
   "metadata": {},
   "source": [
    "### 4.2. Effect of Audience Average Rating"
   ]
  },
  {
   "cell_type": "code",
   "execution_count": 478,
   "id": "e24aa026-6e5b-4fab-863b-92751215f9c5",
   "metadata": {},
   "outputs": [
    {
     "name": "stderr",
     "output_type": "stream",
     "text": [
      "C:\\Users\\setar\\AppData\\Local\\Temp\\ipykernel_18732\\2357585279.py:2: FutureWarning: The default of observed=False is deprecated and will be changed to True in a future version of pandas. Pass observed=False to retain current behavior or observed=True to adopt the future default and silence this warning.\n",
      "  df_averagerating_group = df_final.groupby(\"binned_rating\")\n"
     ]
    },
    {
     "data": {
      "image/png": "[encoded data removed]",
      "text/plain": [
       "<Figure size 1200x400 with 2 Axes>"
      ]
     },
     "metadata": {},
     "output_type": "display_data"
    }
   ],
   "source": [
    "df_final[\"binned_rating\"] = pd.cut(df_final[\"average_rating\"], bins=range(1,11))\n",
    "df_averagerating_group = df_final.groupby(\"binned_rating\")\n",
    "\n",
    "fig, ax = plt.subplots(1,2, figsize=(12,4))\n",
    "df_averagerating_group[[\"ROI_domestic\"]].mean().sort_values(by=\"ROI_domestic\",ascending=False).head(10).plot(ax=ax[0],kind=\"bar\", xlabel=\"Average Rating\", rot=45);\n",
    "df_averagerating_group[[\"ROI_worldwide\"]].mean().sort_values(by=\"ROI_worldwide\",ascending=False).head(10).plot(ax=ax[1],kind=\"bar\", xlabel=\"Average Rating\", rot=45);"
   ]
  },
  {
   "cell_type": "code",
   "execution_count": 475,
   "id": "d39aca30-b5d6-4041-9ab1-8efd70d91223",
   "metadata": {},
   "outputs": [
    {
     "data": {
      "text/plain": [
       "binned_rating\n",
       "(1, 2]       2\n",
       "(2, 3]       2\n",
       "(3, 4]      30\n",
       "(4, 5]     123\n",
       "(5, 6]     430\n",
       "(6, 7]     781\n",
       "(7, 8]     443\n",
       "(8, 9]      55\n",
       "(9, 10]      0\n",
       "dtype: int64"
      ]
     },
     "execution_count": 475,
     "metadata": {},
     "output_type": "execute_result"
    }
   ],
   "source": [
    "df_averagerating_group.size()"
   ]
  },
  {
   "cell_type": "markdown",
   "id": "f339fd1d-2e44-4cca-8722-7ed0be4112ce",
   "metadata": {},
   "source": [
    "These plots seem to suggest that there's no clear-cut relationship between audience average ratings and domestic/worldwide ROIs. In particular, note that movies with average ratings between 4 and 5 seem to be the most profitable. This could have many reasons. For example, the dataset may lack enough number of data points in specific bins. For example, we only have 196 data points in the 4-5 bin which is only about 35% of the 5-6 bin and 22% of the 6-7 bin. Making these ratios more balanced by gathering more data might lead to more representative means and better insights. Another reason could be that the general public are most likely to watch average-rated movies. In other words, not everybody is necessarily interested in watching highly-acclaimed or highly-rated movies. "
   ]
  },
  {
   "cell_type": "markdown",
   "id": "ebadc2c4-557a-4849-a917-aa92e2c3a929",
   "metadata": {},
   "source": [
    "Another way to look at this is plotting the ROI against average rating and looking at correlation coefficients:"
   ]
  },
  {
   "cell_type": "code",
   "execution_count": null,
   "id": "57a27b74-0201-414f-8ff4-87508668ede3",
   "metadata": {},
   "outputs": [],
   "source": [
    "fig, ax=plt.subplots(figsize=(6,4))\n",
    "df_final.plot(kind=\"scatter\", ax=ax ,x=\"average_rating\", y = \"ROI_domestic\", ylim=(0,10000), logy=True);"
   ]
  },
  {
   "cell_type": "code",
   "execution_count": null,
   "id": "f01b35a9-d815-4823-860a-aed82572f456",
   "metadata": {},
   "outputs": [],
   "source": [
    "df_final[[\"ROI_domestic\", \"ROI_worldwide\",\"average_rating\", \"domestic_gross\",\"worldwide_gross\", \"production_budget\"]].corr()"
   ]
  },
  {
   "cell_type": "code",
   "execution_count": null,
   "id": "d710cec9-c4b0-45e6-974d-8f040523c82b",
   "metadata": {},
   "outputs": [],
   "source": [
    "# import statsmodels.api as sm\n",
    "# # df_final_no_nans = df_final.dropna()\n",
    "\n",
    "# y = df_exploded[(df_exploded[\"genres\"]==\"Mystery\") & (df_exploded[\"ROI_domestic\"]>0)][\"ROI_domestic\"]\n",
    "# X = df_exploded[(df_exploded[\"genres\"]==\"Mystery\") & (df_exploded[\"ROI_domestic\"]>0)][[\"average_rating\"]]\n",
    "\n",
    "# lr_model = sm.OLS(y,sm.add_constant(X)).fit()\n",
    "# lr_model.summary()"
   ]
  },
  {
   "cell_type": "markdown",
   "id": "2106fe8f-5d3b-4ff9-ad62-141215cd125f",
   "metadata": {},
   "source": [
    "### Release Year "
   ]
  },
  {
   "cell_type": "code",
   "execution_count": 357,
   "id": "a22e47df-c90a-4399-bf23-114a274eb280",
   "metadata": {},
   "outputs": [
    {
     "data": {
      "image/png": "[encoded data removed]",
      "text/plain": [
       "<Figure size 640x480 with 1 Axes>"
      ]
     },
     "metadata": {},
     "output_type": "display_data"
    }
   ],
   "source": [
    "df_final.drop(labels = df_final[df_final[\"release_year\"]==2020].index, inplace=True)\n",
    "\n",
    "df_releaseyear_group = df_final.groupby(\"release_year\")\n",
    "\n",
    "df_releaseyear_group[[\"production_budget\", \"domestic_gross\",\"worldwide_gross\"]].mean().plot(kind=\"bar\");"
   ]
  },
  {
   "cell_type": "markdown",
   "id": "4664f88c-9116-4dd7-907a-923cb79db218",
   "metadata": {},
   "source": [
    "### 4.2. Effect of Audience Rating"
   ]
  },
  {
   "cell_type": "code",
   "execution_count": 476,
   "id": "c6e06183-7e0d-4aed-a3fc-28e4a55d4c2a",
   "metadata": {},
   "outputs": [
    {
     "name": "stdout",
     "output_type": "stream",
     "text": [
      "count     1866.000000\n",
      "mean        95.657506\n",
      "std        635.788762\n",
      "min        -99.996940\n",
      "25%        -71.968455\n",
      "50%         -8.352928\n",
      "75%         95.597240\n",
      "max      22664.410000\n",
      "Name: ROI_domestic, dtype: float64\n"
     ]
    },
    {
     "name": "stderr",
     "output_type": "stream",
     "text": [
      "C:\\Users\\setar\\anaconda3\\envs\\my-learn-env\\lib\\site-packages\\pandas\\plotting\\_matplotlib\\core.py:772: UserWarning: Attempt to set non-positive ylim on a log-scaled axis will be ignored.\n",
      "  ax.set_ylim(self.ylim)\n"
     ]
    },
    {
     "data": {
      "image/png": "[encoded data removed]",
      "text/plain": [
       "<Figure size 600x400 with 1 Axes>"
      ]
     },
     "metadata": {},
     "output_type": "display_data"
    }
   ],
   "source": [
    "print(df_final[\"ROI_domestic\"].describe())\n",
    "fig, ax=plt.subplots(figsize=(6,4))\n",
    "df_final.plot(kind=\"scatter\", ax=ax ,x=\"average_rating\", y = \"ROI_domestic\", ylim=(0,10000), logy=True);"
   ]
  },
  {
   "cell_type": "code",
   "execution_count": 359,
   "id": "b9551fca-80c1-4c26-b9f8-754001bdc807",
   "metadata": {},
   "outputs": [
    {
     "name": "stderr",
     "output_type": "stream",
     "text": [
      "C:\\Users\\setar\\anaconda3\\envs\\my-learn-env\\lib\\site-packages\\scipy\\stats\\_stats_py.py:1806: UserWarning: kurtosistest only valid for n>=20 ... continuing anyway, n=9\n",
      "  warnings.warn(\"kurtosistest only valid for n>=20 ... continuing \"\n"
     ]
    },
    {
     "data": {
      "text/html": [
       "<table class=\"simpletable\">\n",
       "<caption>OLS Regression Results</caption>\n",
       "<tr>\n",
       "  <th>Dep. Variable:</th>      <td>ROI_domestic</td>   <th>  R-squared:         </th> <td>   0.012</td>\n",
       "</tr>\n",
       "<tr>\n",
       "  <th>Model:</th>                   <td>OLS</td>       <th>  Adj. R-squared:    </th> <td>  -0.129</td>\n",
       "</tr>\n",
       "<tr>\n",
       "  <th>Method:</th>             <td>Least Squares</td>  <th>  F-statistic:       </th> <td> 0.08630</td>\n",
       "</tr>\n",
       "<tr>\n",
       "  <th>Date:</th>             <td>Wed, 07 Aug 2024</td> <th>  Prob (F-statistic):</th>  <td> 0.777</td> \n",
       "</tr>\n",
       "<tr>\n",
       "  <th>Time:</th>                 <td>14:57:29</td>     <th>  Log-Likelihood:    </th> <td> -52.749</td>\n",
       "</tr>\n",
       "<tr>\n",
       "  <th>No. Observations:</th>      <td>     9</td>      <th>  AIC:               </th> <td>   109.5</td>\n",
       "</tr>\n",
       "<tr>\n",
       "  <th>Df Residuals:</th>          <td>     7</td>      <th>  BIC:               </th> <td>   109.9</td>\n",
       "</tr>\n",
       "<tr>\n",
       "  <th>Df Model:</th>              <td>     1</td>      <th>                     </th>     <td> </td>   \n",
       "</tr>\n",
       "<tr>\n",
       "  <th>Covariance Type:</th>      <td>nonrobust</td>    <th>                     </th>     <td> </td>   \n",
       "</tr>\n",
       "</table>\n",
       "<table class=\"simpletable\">\n",
       "<tr>\n",
       "         <td></td>           <th>coef</th>     <th>std err</th>      <th>t</th>      <th>P>|t|</th>  <th>[0.025</th>    <th>0.975]</th>  \n",
       "</tr>\n",
       "<tr>\n",
       "  <th>const</th>          <td>  158.8075</td> <td>  183.932</td> <td>    0.863</td> <td> 0.417</td> <td> -276.123</td> <td>  593.738</td>\n",
       "</tr>\n",
       "<tr>\n",
       "  <th>average_rating</th> <td>   -7.6006</td> <td>   25.873</td> <td>   -0.294</td> <td> 0.777</td> <td>  -68.780</td> <td>   53.578</td>\n",
       "</tr>\n",
       "</table>\n",
       "<table class=\"simpletable\">\n",
       "<tr>\n",
       "  <th>Omnibus:</th>       <td> 1.400</td> <th>  Durbin-Watson:     </th> <td>   1.967</td>\n",
       "</tr>\n",
       "<tr>\n",
       "  <th>Prob(Omnibus):</th> <td> 0.497</td> <th>  Jarque-Bera (JB):  </th> <td>   0.722</td>\n",
       "</tr>\n",
       "<tr>\n",
       "  <th>Skew:</th>          <td> 0.192</td> <th>  Prob(JB):          </th> <td>   0.697</td>\n",
       "</tr>\n",
       "<tr>\n",
       "  <th>Kurtosis:</th>      <td> 1.667</td> <th>  Cond. No.          </th> <td>    41.5</td>\n",
       "</tr>\n",
       "</table><br/><br/>Notes:<br/>[1] Standard Errors assume that the covariance matrix of the errors is correctly specified."
      ],
      "text/latex": [
       "\\begin{center}\n",
       "\\begin{tabular}{lclc}\n",
       "\\toprule\n",
       "\\textbf{Dep. Variable:}    &  ROI\\_domestic   & \\textbf{  R-squared:         } &     0.012   \\\\\n",
       "\\textbf{Model:}            &       OLS        & \\textbf{  Adj. R-squared:    } &    -0.129   \\\\\n",
       "\\textbf{Method:}           &  Least Squares   & \\textbf{  F-statistic:       } &   0.08630   \\\\\n",
       "\\textbf{Date:}             & Wed, 07 Aug 2024 & \\textbf{  Prob (F-statistic):} &    0.777    \\\\\n",
       "\\textbf{Time:}             &     14:57:29     & \\textbf{  Log-Likelihood:    } &   -52.749   \\\\\n",
       "\\textbf{No. Observations:} &           9      & \\textbf{  AIC:               } &     109.5   \\\\\n",
       "\\textbf{Df Residuals:}     &           7      & \\textbf{  BIC:               } &     109.9   \\\\\n",
       "\\textbf{Df Model:}         &           1      & \\textbf{                     } &             \\\\\n",
       "\\textbf{Covariance Type:}  &    nonrobust     & \\textbf{                     } &             \\\\\n",
       "\\bottomrule\n",
       "\\end{tabular}\n",
       "\\begin{tabular}{lcccccc}\n",
       "                         & \\textbf{coef} & \\textbf{std err} & \\textbf{t} & \\textbf{P$> |$t$|$} & \\textbf{[0.025} & \\textbf{0.975]}  \\\\\n",
       "\\midrule\n",
       "\\textbf{const}           &     158.8075  &      183.932     &     0.863  &         0.417        &     -276.123    &      593.738     \\\\\n",
       "\\textbf{average\\_rating} &      -7.6006  &       25.873     &    -0.294  &         0.777        &      -68.780    &       53.578     \\\\\n",
       "\\bottomrule\n",
       "\\end{tabular}\n",
       "\\begin{tabular}{lclc}\n",
       "\\textbf{Omnibus:}       &  1.400 & \\textbf{  Durbin-Watson:     } &    1.967  \\\\\n",
       "\\textbf{Prob(Omnibus):} &  0.497 & \\textbf{  Jarque-Bera (JB):  } &    0.722  \\\\\n",
       "\\textbf{Skew:}          &  0.192 & \\textbf{  Prob(JB):          } &    0.697  \\\\\n",
       "\\textbf{Kurtosis:}      &  1.667 & \\textbf{  Cond. No.          } &     41.5  \\\\\n",
       "\\bottomrule\n",
       "\\end{tabular}\n",
       "%\\caption{OLS Regression Results}\n",
       "\\end{center}\n",
       "\n",
       "Notes: \\newline\n",
       " [1] Standard Errors assume that the covariance matrix of the errors is correctly specified."
      ],
      "text/plain": [
       "<class 'statsmodels.iolib.summary.Summary'>\n",
       "\"\"\"\n",
       "                            OLS Regression Results                            \n",
       "==============================================================================\n",
       "Dep. Variable:           ROI_domestic   R-squared:                       0.012\n",
       "Model:                            OLS   Adj. R-squared:                 -0.129\n",
       "Method:                 Least Squares   F-statistic:                   0.08630\n",
       "Date:                Wed, 07 Aug 2024   Prob (F-statistic):              0.777\n",
       "Time:                        14:57:29   Log-Likelihood:                -52.749\n",
       "No. Observations:                   9   AIC:                             109.5\n",
       "Df Residuals:                       7   BIC:                             109.9\n",
       "Df Model:                           1                                         \n",
       "Covariance Type:            nonrobust                                         \n",
       "==================================================================================\n",
       "                     coef    std err          t      P>|t|      [0.025      0.975]\n",
       "----------------------------------------------------------------------------------\n",
       "const            158.8075    183.932      0.863      0.417    -276.123     593.738\n",
       "average_rating    -7.6006     25.873     -0.294      0.777     -68.780      53.578\n",
       "==============================================================================\n",
       "Omnibus:                        1.400   Durbin-Watson:                   1.967\n",
       "Prob(Omnibus):                  0.497   Jarque-Bera (JB):                0.722\n",
       "Skew:                           0.192   Prob(JB):                        0.697\n",
       "Kurtosis:                       1.667   Cond. No.                         41.5\n",
       "==============================================================================\n",
       "\n",
       "Notes:\n",
       "[1] Standard Errors assume that the covariance matrix of the errors is correctly specified.\n",
       "\"\"\""
      ]
     },
     "execution_count": 359,
     "metadata": {},
     "output_type": "execute_result"
    }
   ],
   "source": [
    "import statsmodels.api as sm\n",
    "# df_final_no_nans = df_final.dropna()\n",
    "\n",
    "y = df_exploded[(df_exploded[\"genres\"]==\"Mystery\") & (df_exploded[\"ROI_domestic\"]>0)][\"ROI_domestic\"]\n",
    "X = df_exploded[(df_exploded[\"genres\"]==\"Mystery\") & (df_exploded[\"ROI_domestic\"]>0)][[\"average_rating\"]]\n",
    "\n",
    "lr_model = sm.OLS(y,sm.add_constant(X)).fit()\n",
    "lr_model.summary()"
   ]
  },
  {
   "cell_type": "code",
   "execution_count": 94,
   "id": "885699e5-0e1e-4c32-897a-d21f28018845",
   "metadata": {},
   "outputs": [
    {
     "data": {
      "text/html": [
       "<div>\n",
       "<style scoped>\n",
       "    .dataframe tbody tr th:only-of-type {\n",
       "        vertical-align: middle;\n",
       "    }\n",
       "\n",
       "    .dataframe tbody tr th {\n",
       "        vertical-align: top;\n",
       "    }\n",
       "\n",
       "    .dataframe thead th {\n",
       "        text-align: right;\n",
       "    }\n",
       "</style>\n",
       "<table border=\"1\" class=\"dataframe\">\n",
       "  <thead>\n",
       "    <tr style=\"text-align: right;\">\n",
       "      <th></th>\n",
       "      <th>ROI_domestic</th>\n",
       "      <th>ROI_worldwide</th>\n",
       "      <th>average_rating</th>\n",
       "      <th>domestic_gross</th>\n",
       "      <th>worldwide_gross</th>\n",
       "      <th>production_budget</th>\n",
       "    </tr>\n",
       "  </thead>\n",
       "  <tbody>\n",
       "    <tr>\n",
       "      <th>ROI_domestic</th>\n",
       "      <td>1.000000</td>\n",
       "      <td>0.922215</td>\n",
       "      <td>0.078529</td>\n",
       "      <td>0.216144</td>\n",
       "      <td>0.130828</td>\n",
       "      <td>-0.079299</td>\n",
       "    </tr>\n",
       "    <tr>\n",
       "      <th>ROI_worldwide</th>\n",
       "      <td>0.922215</td>\n",
       "      <td>1.000000</td>\n",
       "      <td>0.113679</td>\n",
       "      <td>0.265513</td>\n",
       "      <td>0.239215</td>\n",
       "      <td>-0.015091</td>\n",
       "    </tr>\n",
       "    <tr>\n",
       "      <th>average_rating</th>\n",
       "      <td>0.078529</td>\n",
       "      <td>0.113679</td>\n",
       "      <td>1.000000</td>\n",
       "      <td>0.243274</td>\n",
       "      <td>0.227960</td>\n",
       "      <td>0.121174</td>\n",
       "    </tr>\n",
       "    <tr>\n",
       "      <th>domestic_gross</th>\n",
       "      <td>0.216144</td>\n",
       "      <td>0.265513</td>\n",
       "      <td>0.243274</td>\n",
       "      <td>1.000000</td>\n",
       "      <td>0.940126</td>\n",
       "      <td>0.715045</td>\n",
       "    </tr>\n",
       "    <tr>\n",
       "      <th>worldwide_gross</th>\n",
       "      <td>0.130828</td>\n",
       "      <td>0.239215</td>\n",
       "      <td>0.227960</td>\n",
       "      <td>0.940126</td>\n",
       "      <td>1.000000</td>\n",
       "      <td>0.788721</td>\n",
       "    </tr>\n",
       "    <tr>\n",
       "      <th>production_budget</th>\n",
       "      <td>-0.079299</td>\n",
       "      <td>-0.015091</td>\n",
       "      <td>0.121174</td>\n",
       "      <td>0.715045</td>\n",
       "      <td>0.788721</td>\n",
       "      <td>1.000000</td>\n",
       "    </tr>\n",
       "  </tbody>\n",
       "</table>\n",
       "</div>"
      ],
      "text/plain": [
       "                   ROI_domestic  ROI_worldwide  average_rating  \\\n",
       "ROI_domestic           1.000000       0.922215        0.078529   \n",
       "ROI_worldwide          0.922215       1.000000        0.113679   \n",
       "average_rating         0.078529       0.113679        1.000000   \n",
       "domestic_gross         0.216144       0.265513        0.243274   \n",
       "worldwide_gross        0.130828       0.239215        0.227960   \n",
       "production_budget     -0.079299      -0.015091        0.121174   \n",
       "\n",
       "                   domestic_gross  worldwide_gross  production_budget  \n",
       "ROI_domestic             0.216144         0.130828          -0.079299  \n",
       "ROI_worldwide            0.265513         0.239215          -0.015091  \n",
       "average_rating           0.243274         0.227960           0.121174  \n",
       "domestic_gross           1.000000         0.940126           0.715045  \n",
       "worldwide_gross          0.940126         1.000000           0.788721  \n",
       "production_budget        0.715045         0.788721           1.000000  "
      ]
     },
     "execution_count": 94,
     "metadata": {},
     "output_type": "execute_result"
    }
   ],
   "source": [
    "df_final[(df_final[\"average_rating\"]>=5) & (df_final[\"average_rating\"]<=8)][[\"ROI_domestic\", \"ROI_worldwide\",\"average_rating\", \"domestic_gross\",\"worldwide_gross\", \"production_budget\"]].corr()"
   ]
  },
  {
   "cell_type": "markdown",
   "id": "75f50db6-4a87-4fa7-85af-09a55bfa5193",
   "metadata": {},
   "source": [
    "### 4.3. Release Month"
   ]
  },
  {
   "cell_type": "code",
   "execution_count": 515,
   "id": "902fd36f-ad84-4b0a-a593-2c8196633be9",
   "metadata": {},
   "outputs": [
    {
     "name": "stderr",
     "output_type": "stream",
     "text": [
      "C:\\Users\\setar\\AppData\\Local\\Temp\\ipykernel_18732\\649234738.py:6: FutureWarning: The default of observed=False is deprecated and will be changed to True in a future version of pandas. Pass observed=False to retain current behavior or observed=True to adopt the future default and silence this warning.\n",
      "  df_month_group = df_final.groupby(\"Month\")\n"
     ]
    },
    {
     "data": {
      "image/png": "[encoded data removed]",
      "text/plain": [
       "<Figure size 1200x600 with 2 Axes>"
      ]
     },
     "metadata": {},
     "output_type": "display_data"
    }
   ],
   "source": [
    "import calendar\n",
    "df_final['Month'] = pd.DatetimeIndex(df_final['release_date']).month\n",
    "df_final['Month'] = df_final['Month'].apply(lambda x: calendar.month_abbr[x])\n",
    "month_order = month_order = ['Jan', 'Feb', 'Mar', 'Apr', 'May', 'Jun', 'Jul', 'Aug', 'Sep', 'Oct', 'Nov', 'Dec']\n",
    "df_final['Month'] = pd.Categorical(df_final['Month'], categories=month_order, ordered=True)\n",
    "df_month_group = df_final.groupby(\"Month\")\n",
    "\n",
    "fig, ax=plt.subplots(1,2, figsize=(12,6))\n",
    "df_month_group[[\"ROI_domestic\"]].mean().plot(ax=ax[0],kind=\"bar\", xlabel=\"Month\", rot=45);\n",
    "ax[0].legend([\"ROI - Domestic\"]);\n",
    "\n",
    "df_month_group[[\"ROI_worldwide\"]].mean().plot(ax=ax[1],kind=\"bar\", xlabel=\"Month\", rot=45);\n",
    "ax[1].legend([\"ROI - Worldwide\"]);"
   ]
  },
  {
   "cell_type": "markdown",
   "id": "625bee05-e43a-4057-8a83-05378e0d898d",
   "metadata": {},
   "source": [
    "### 4.4. Budget"
   ]
  },
  {
   "cell_type": "code",
   "execution_count": 97,
   "id": "95378815-83e5-4cf1-8c83-0b179ff611c2",
   "metadata": {},
   "outputs": [
    {
     "data": {
      "image/png": "[encoded data removed]",
      "text/plain": [
       "<Figure size 600x400 with 1 Axes>"
      ]
     },
     "metadata": {},
     "output_type": "display_data"
    }
   ],
   "source": [
    "fig, ax=plt.subplots(figsize=(6,4))\n",
    "df_final.plot(kind=\"scatter\", ax=ax ,x=\"production_budget\", y = \"ROI_worldwide\", xlim=(0,1E8), ylim=(-250,2000));"
   ]
  },
  {
   "cell_type": "markdown",
   "id": "c3b9542d-9cc1-4e27-ac99-b459df5a6cdb",
   "metadata": {},
   "source": [
    "**Question:** Does higher budget mean higher rating? "
   ]
  },
  {
   "cell_type": "code",
   "execution_count": 499,
   "id": "c7ef17b7-aba7-4ed2-9ac3-d49bb257dc3c",
   "metadata": {},
   "outputs": [
    {
     "name": "stdout",
     "output_type": "stream",
     "text": [
      "count    1.866000e+03\n",
      "mean     4.289674e+07\n",
      "std      5.469083e+07\n",
      "min      9.000000e+03\n",
      "25%      7.000000e+06\n",
      "50%      2.100000e+07\n",
      "75%      5.100000e+07\n",
      "max      4.106000e+08\n",
      "Name: production_budget, dtype: float64\n"
     ]
    },
    {
     "data": {
      "text/plain": [
       "Text(0.5, 0, 'Production Budget (million $)')"
      ]
     },
     "execution_count": 499,
     "metadata": {},
     "output_type": "execute_result"
    },
    {
     "data": {
      "image/png": "[encoded data removed]",
      "text/plain": [
       "<Figure size 1200x200 with 3 Axes>"
      ]
     },
     "metadata": {},
     "output_type": "display_data"
    }
   ],
   "source": [
    "fig, ax=plt.subplots(1,3, figsize=(12,2))\n",
    "print(df_final[\"production_budget\"].describe())\n",
    "\n",
    "# low-budget movies\n",
    "ax[0].scatter(x = df_final[\"production_budget\"]/1E6, y = df_final[\"ROI_domestic\"],color=\"blue\", s=10);\n",
    "ax[0].set_xlim(0,4)\n",
    "# ax[0].set_ylim(-1000,2000)\n",
    "ax[0].set_xlabel(\"Production Budget (million $)\");\n",
    "ax[0].set_ylabel(\"Averge Rating\");\n",
    "\n",
    "# medium-budget movies\n",
    "ax[1].scatter(x = df_final[\"production_budget\"]/1E6, y = df_final[\"ROI_domestic\"],color=\"blue\", s=10);\n",
    "ax[1].set_xlim(4,40)\n",
    "ax[1].set_ylim(-1000,2000)\n",
    "ax[1].set_xlabel(\"ROI\")\n",
    "# ax[1].set_xscale('log')\n",
    "\n",
    "# high-budget movies\n",
    "ax[2].scatter(x = df_final[\"production_budget\"]/1E6, y = df_final[\"ROI_domestic\"],color=\"blue\", s=10);\n",
    "ax[2].set_xlim(40,410)\n",
    "ax[2].set_ylim(-1000,2000)\n",
    "ax[2].set_xlabel(\"Production Budget (million $)\")\n",
    "# ax[2].set_xscale('log')"
   ]
  },
  {
   "cell_type": "code",
   "execution_count": 510,
   "id": "cd2e08d8-8fc9-4a11-8fd8-b22f10a88993",
   "metadata": {},
   "outputs": [
    {
     "data": {
      "text/plain": [
       "Unnamed: 0                                                        4111\n",
       "release_date                                                2010-05-21\n",
       "title                                               PerrierâS Bounty\n",
       "production_budget                                            6600000.0\n",
       "domestic_gross                                                   828.0\n",
       "worldwide_gross                                                  828.0\n",
       "ROI_domestic                                                -99.987455\n",
       "ROI_worldwide                                               -99.987455\n",
       "release_year                                                      2010\n",
       "imdb_movie_id                                                tt1003034\n",
       "genres               [Action, Comedy, Crime, Drama, Romance, Thriller]\n",
       "average_rating                                                     6.3\n",
       "binned_rating                                                   (6, 7]\n",
       "Name: 2143, dtype: object"
      ]
     },
     "execution_count": 510,
     "metadata": {},
     "output_type": "execute_result"
    }
   ],
   "source": [
    "df_final.loc[df_final[\"ROI_domestic\"].idxmax()]\n",
    "df_final.loc[df_final[\"ROI_worldwide\"].idxmin()]"
   ]
  },
  {
   "cell_type": "code",
   "execution_count": 133,
   "id": "52c5c819-cf1c-454c-96f6-08ee9100bc21",
   "metadata": {},
   "outputs": [
    {
     "data": {
      "text/plain": [
       "ROI_domestic         0.335056\n",
       "ROI_worldwide        0.320426\n",
       "average_rating       1.000000\n",
       "domestic_gross       0.424520\n",
       "worldwide_gross      0.407583\n",
       "production_budget    0.260120\n",
       "Name: average_rating, dtype: float64"
      ]
     },
     "execution_count": 133,
     "metadata": {},
     "output_type": "execute_result"
    }
   ],
   "source": [
    "df_low_budget = df_final[df_final[\"production_budget\"]<4E6]\n",
    "df_med_budget = df_final[(df_final[\"production_budget\"]>4E6) & (df_final[\"production_budget\"]<40E6)]\n",
    "df_high_budget = df_final[df_final[\"production_budget\"]>40E6]\n",
    "\n",
    "df_high_budget[[\"ROI_domestic\", \"ROI_worldwide\",\"average_rating\", \"domestic_gross\",\"worldwide_gross\", \"production_budget\"]].corr().iloc[2]"
   ]
  },
  {
   "cell_type": "code",
   "execution_count": null,
   "id": "d19d88c2-c5a8-47cd-9485-8fd60c763b8a",
   "metadata": {},
   "outputs": [],
   "source": [
    "import statsmodels.api as sm\n",
    "# df_final_no_nans = df_final.dropna()\n",
    "\n",
    "y = df_low_budget[\"ROI_domestic\"]\n",
    "X = df_low_budget[\"production_budget\"]\n",
    "\n",
    "lr_model = sm.OLS(y,sm.add_constant(X)).fit()\n",
    "lr_model.summary()"
   ]
  },
  {
   "cell_type": "markdown",
   "id": "453d7c73-8aaa-46af-b29f-f0361ad760ee",
   "metadata": {},
   "source": [
    "**Question:** How does revenue change with production budget?"
   ]
  },
  {
   "cell_type": "code",
   "execution_count": 158,
   "id": "5dfc906c-8f0e-4c4f-ac2b-418851d017ab",
   "metadata": {},
   "outputs": [
    {
     "data": {
      "image/png": "[encoded data removed]",
      "text/plain": [
       "<Figure size 1200x400 with 3 Axes>"
      ]
     },
     "metadata": {},
     "output_type": "display_data"
    }
   ],
   "source": [
    "fig, ax=plt.subplots(1,3, figsize=(12,4))\n",
    "ax[0].scatter(x = df_low_budget[\"production_budget\"]/1E6, y = df_low_budget[\"domestic_gross\"]/1E6,color=\"blue\", s=10);\n",
    "ax[0].scatter(x = df_low_budget[\"production_budget\"]/1E6, y = df_low_budget[\"worldwide_gross\"]/1E6,color=\"green\", s=10);\n",
    "# ax[0].set_yscale('log')\n",
    "# ax[0].set_xscale('log')\n",
    "\n",
    "ax[1].scatter(x = df_med_budget[\"production_budget\"]/1E6, y = df_med_budget[\"domestic_gross\"]/1E6,color=\"blue\", s=10);\n",
    "ax[1].scatter(x = df_med_budget[\"production_budget\"]/1E6, y = df_med_budget[\"worldwide_gross\"]/1E6,color=\"green\", s=10);\n",
    "# ax[1].set_yscale('log')\n",
    "# ax[0].set_xscale('log')\n",
    "\n",
    "ax[2].scatter(x = df_high_budget[\"production_budget\"]/1E6, y = df_high_budget[\"domestic_gross\"]/1E6,color=\"blue\", s=10);\n",
    "ax[2].scatter(x = df_high_budget[\"production_budget\"]/1E6, y = df_high_budget[\"worldwide_gross\"]/1E6,color=\"green\", s=10);\n",
    "# ax[2].set_yscale('log')"
   ]
  },
  {
   "cell_type": "code",
   "execution_count": 477,
   "id": "e7f64dd2-d594-4a7e-9601-81f9e8436b95",
   "metadata": {},
   "outputs": [],
   "source": [
    "# df_ROI_log = df_high_budget.copy()\n",
    "# # df_ROI_log[\"ROI_domestic\"] = numpy.log(df_ROI_log[\"ROI_domestic\"])\n",
    "# # df_ROI_log[\"ROI_worldwide\"] = numpy.log(df_ROI_log[\"ROI_worldwide\"])\n",
    "# df_ROI_log[\"average_rating\"] = numpy.log(df_ROI_log[\"average_rating\"])\n",
    "# df_ROI_log[[\"ROI_domestic\", \"ROI_worldwide\",\"average_rating\", \"domestic_gross\",\"worldwide_gross\", \"production_budget\"]].corr()"
   ]
  },
  {
   "cell_type": "code",
   "execution_count": null,
   "id": "d05ed964-29a5-4a2b-a544-7262e40a5826",
   "metadata": {},
   "outputs": [],
   "source": []
  }
 ],
 "metadata": {
  "kernelspec": {
   "display_name": "Python (my-learn-env)",
   "language": "python",
   "name": "my-learn-env"
  },
  "language_info": {
   "codemirror_mode": {
    "name": "ipython",
    "version": 3
   },
   "file_extension": ".py",
   "mimetype": "text/x-python",
   "name": "python",
   "nbconvert_exporter": "python",
   "pygments_lexer": "ipython3",
   "version": "3.9.18"
  }
 },
 "nbformat": 4,
 "nbformat_minor": 5
}
